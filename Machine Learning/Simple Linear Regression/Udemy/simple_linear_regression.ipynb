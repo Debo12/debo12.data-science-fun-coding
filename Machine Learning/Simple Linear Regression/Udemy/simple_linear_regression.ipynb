{
  "nbformat": 4,
  "nbformat_minor": 5,
  "metadata": {
    "kernelspec": {
      "display_name": "Python 3",
      "language": "python",
      "name": "python3"
    },
    "language_info": {
      "codemirror_mode": {
        "name": "ipython",
        "version": 3
      },
      "file_extension": ".py",
      "mimetype": "text/x-python",
      "name": "python",
      "nbconvert_exporter": "python",
      "pygments_lexer": "ipython3",
      "version": "3.9.0"
    },
    "colab": {
      "name": "simple_linear_regression.ipynb",
      "provenance": [],
      "collapsed_sections": [
        "VEP50IRJ1q6W",
        "lyDsYB1f1vfU"
      ],
      "include_colab_link": true
    }
  },
  "cells": [
    {
      "cell_type": "markdown",
      "metadata": {
        "id": "view-in-github",
        "colab_type": "text"
      },
      "source": [
        "<a href=\"https://colab.research.google.com/github/Debo12/debo12.machine_learning.pilot/blob/master/Simple%20Linear%20Regression/simple_linear_regression.ipynb\" target=\"_parent\"><img src=\"https://colab.research.google.com/assets/colab-badge.svg\" alt=\"Open In Colab\"/></a>"
      ]
    },
    {
      "cell_type": "markdown",
      "metadata": {
        "id": "LM9S4j9A1nm9"
      },
      "source": [
        "# Simple Linear Regression"
      ],
      "id": "LM9S4j9A1nm9"
    },
    {
      "cell_type": "markdown",
      "metadata": {
        "id": "VEP50IRJ1q6W"
      },
      "source": [
        "## Importing the Libraries"
      ],
      "id": "VEP50IRJ1q6W"
    },
    {
      "cell_type": "code",
      "metadata": {
        "id": "ap2p4eNC40Sk"
      },
      "source": [
        "import numpy as np\n",
        "import pandas as pd\n",
        "import matplotlib.pyplot as plt"
      ],
      "id": "ap2p4eNC40Sk",
      "execution_count": 16,
      "outputs": []
    },
    {
      "cell_type": "markdown",
      "metadata": {
        "id": "lyDsYB1f1vfU"
      },
      "source": [
        "## Importing the Dataset"
      ],
      "id": "lyDsYB1f1vfU"
    },
    {
      "cell_type": "code",
      "metadata": {
        "colab": {
          "base_uri": "https://localhost:8080/"
        },
        "id": "tqT34Az-5XZ_",
        "outputId": "23ec7350-d51c-418f-aefe-d5c9547e61a6"
      },
      "source": [
        "from google.colab import drive\n",
        "drive.mount('/content/drive')"
      ],
      "id": "tqT34Az-5XZ_",
      "execution_count": 17,
      "outputs": [
        {
          "output_type": "stream",
          "text": [
            "Drive already mounted at /content/drive; to attempt to forcibly remount, call drive.mount(\"/content/drive\", force_remount=True).\n"
          ],
          "name": "stdout"
        }
      ]
    },
    {
      "cell_type": "code",
      "metadata": {
        "id": "BboQzszV5tis"
      },
      "source": [
        "dataset = pd.read_csv('/content/drive/MyDrive/Data Science/Machine Learning A-Z™: Hands-On Python & R In Data Science/Simple Linear Regression/Salary_Data.csv')\n",
        "X = dataset.iloc[:, :-1].values\n",
        "Y = dataset.iloc[:, -1].values"
      ],
      "id": "BboQzszV5tis",
      "execution_count": 18,
      "outputs": []
    },
    {
      "cell_type": "markdown",
      "metadata": {
        "id": "6sE9rMFw1yxt"
      },
      "source": [
        "## Splitting the Dataset into Training set and Test set"
      ],
      "id": "6sE9rMFw1yxt"
    },
    {
      "cell_type": "code",
      "metadata": {
        "id": "OC9aSFTE6vgo"
      },
      "source": [
        "from sklearn.model_selection import train_test_split\n",
        "X_train, X_test, Y_train, Y_test = train_test_split(X, Y, test_size=0.2, random_state=0)"
      ],
      "id": "OC9aSFTE6vgo",
      "execution_count": 19,
      "outputs": []
    },
    {
      "cell_type": "markdown",
      "metadata": {
        "id": "_FsDok534dry"
      },
      "source": [
        "## Training the Simple Linear Model on the Training Dataset"
      ],
      "id": "_FsDok534dry"
    },
    {
      "cell_type": "code",
      "metadata": {
        "colab": {
          "base_uri": "https://localhost:8080/"
        },
        "id": "Nr-moi2cRys7",
        "outputId": "1ff6b1c1-a130-48d5-ec25-02fe3acac745"
      },
      "source": [
        "from sklearn.linear_model import LinearRegression\n",
        "regressor = LinearRegression()\n",
        "regressor.fit(X_train, Y_train)"
      ],
      "id": "Nr-moi2cRys7",
      "execution_count": 21,
      "outputs": [
        {
          "output_type": "execute_result",
          "data": {
            "text/plain": [
              "LinearRegression(copy_X=True, fit_intercept=True, n_jobs=None, normalize=False)"
            ]
          },
          "metadata": {
            "tags": []
          },
          "execution_count": 21
        }
      ]
    },
    {
      "cell_type": "markdown",
      "metadata": {
        "id": "ncPIY_BO4j60"
      },
      "source": [
        "## Predicting the Test set Results"
      ],
      "id": "ncPIY_BO4j60"
    },
    {
      "cell_type": "code",
      "metadata": {
        "colab": {
          "base_uri": "https://localhost:8080/"
        },
        "id": "QRyTZuUYScIj",
        "outputId": "951eca6b-1d92-462d-ad4e-8f9a67dd7d71"
      },
      "source": [
        "print(X_test)"
      ],
      "id": "QRyTZuUYScIj",
      "execution_count": 23,
      "outputs": [
        {
          "output_type": "stream",
          "text": [
            "[[ 1.5]\n",
            " [10.3]\n",
            " [ 4.1]\n",
            " [ 3.9]\n",
            " [ 9.5]\n",
            " [ 8.7]]\n"
          ],
          "name": "stdout"
        }
      ]
    },
    {
      "cell_type": "code",
      "metadata": {
        "colab": {
          "base_uri": "https://localhost:8080/"
        },
        "id": "wNyX0BsvSfg7",
        "outputId": "8f61bd9b-e383-4b9c-9ec7-446edbdbb05e"
      },
      "source": [
        "print(Y_test)"
      ],
      "id": "wNyX0BsvSfg7",
      "execution_count": 24,
      "outputs": [
        {
          "output_type": "stream",
          "text": [
            "[ 37731. 122391.  57081.  63218. 116969. 109431.]\n"
          ],
          "name": "stdout"
        }
      ]
    },
    {
      "cell_type": "code",
      "metadata": {
        "id": "31rSKkjFSO8e"
      },
      "source": [
        "Y_pred = regressor.predict(X_test)"
      ],
      "id": "31rSKkjFSO8e",
      "execution_count": 25,
      "outputs": []
    },
    {
      "cell_type": "markdown",
      "metadata": {
        "id": "S20_8bYw4pU7"
      },
      "source": [
        "## Visualising the Train set Results"
      ],
      "id": "S20_8bYw4pU7"
    },
    {
      "cell_type": "markdown",
      "metadata": {
        "id": "hFQdzRgN4uP5"
      },
      "source": [
        "## Visualising the Test set Results"
      ],
      "id": "hFQdzRgN4uP5"
    }
  ]
}