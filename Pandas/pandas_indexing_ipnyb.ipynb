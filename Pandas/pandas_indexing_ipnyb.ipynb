{
  "nbformat": 4,
  "nbformat_minor": 0,
  "metadata": {
    "colab": {
      "name": "pandas-indexing.ipnyb",
      "provenance": [],
      "authorship_tag": "ABX9TyNLUvRHuW3oC+gWZoDdnoyn",
      "include_colab_link": true
    },
    "kernelspec": {
      "name": "python3",
      "display_name": "Python 3"
    },
    "language_info": {
      "name": "python"
    }
  },
  "cells": [
    {
      "cell_type": "markdown",
      "metadata": {
        "id": "view-in-github",
        "colab_type": "text"
      },
      "source": [
        "<a href=\"https://colab.research.google.com/github/Debo12/debo12.pandas-fp/blob/main/pandas_indexing_ipnyb.ipynb\" target=\"_parent\"><img src=\"https://colab.research.google.com/assets/colab-badge.svg\" alt=\"Open In Colab\"/></a>"
      ]
    },
    {
      "cell_type": "code",
      "metadata": {
        "id": "p_gIVPve1mYY"
      },
      "source": [
        "import numpy as np\n",
        "import pandas as pd"
      ],
      "execution_count": 14,
      "outputs": []
    },
    {
      "cell_type": "markdown",
      "metadata": {
        "id": "nA4ydesgFKTG"
      },
      "source": [
        "# Single Level Index"
      ]
    },
    {
      "cell_type": "code",
      "metadata": {
        "colab": {
          "base_uri": "https://localhost:8080/"
        },
        "id": "iRBe8WAp8fFh",
        "outputId": "40bd9540-7b1c-4733-ce11-fb3d36637e5b"
      },
      "source": [
        "df = pd.DataFrame(np.random.rand(5, 2))\n",
        "df.index = ['row_'+str(i) for i in range(1, 6)]\n",
        "print(df)"
      ],
      "execution_count": 15,
      "outputs": [
        {
          "output_type": "stream",
          "text": [
            "              0         1\n",
            "row_1  0.558258  0.101283\n",
            "row_2  0.077910  0.303753\n",
            "row_3  0.417924  0.385294\n",
            "row_4  0.714496  0.868379\n",
            "row_5  0.687499  0.993904\n"
          ],
          "name": "stdout"
        }
      ]
    },
    {
      "cell_type": "markdown",
      "metadata": {
        "id": "r_Z43FwY-4Zk"
      },
      "source": [
        "# Date Time Index"
      ]
    },
    {
      "cell_type": "code",
      "metadata": {
        "id": "pd1npX8W8pQg"
      },
      "source": [
        "ufo = pd.read_csv('http://bit.ly/uforeports')"
      ],
      "execution_count": 16,
      "outputs": []
    },
    {
      "cell_type": "code",
      "metadata": {
        "colab": {
          "base_uri": "https://localhost:8080/",
          "height": 0
        },
        "id": "oy9Z_Ysj_EsP",
        "outputId": "05c761f3-1815-4709-a332-c88834a90cde"
      },
      "source": [
        "ufo.head()"
      ],
      "execution_count": 17,
      "outputs": [
        {
          "output_type": "execute_result",
          "data": {
            "text/html": [
              "<div>\n",
              "<style scoped>\n",
              "    .dataframe tbody tr th:only-of-type {\n",
              "        vertical-align: middle;\n",
              "    }\n",
              "\n",
              "    .dataframe tbody tr th {\n",
              "        vertical-align: top;\n",
              "    }\n",
              "\n",
              "    .dataframe thead th {\n",
              "        text-align: right;\n",
              "    }\n",
              "</style>\n",
              "<table border=\"1\" class=\"dataframe\">\n",
              "  <thead>\n",
              "    <tr style=\"text-align: right;\">\n",
              "      <th></th>\n",
              "      <th>City</th>\n",
              "      <th>Colors Reported</th>\n",
              "      <th>Shape Reported</th>\n",
              "      <th>State</th>\n",
              "      <th>Time</th>\n",
              "    </tr>\n",
              "  </thead>\n",
              "  <tbody>\n",
              "    <tr>\n",
              "      <th>0</th>\n",
              "      <td>Ithaca</td>\n",
              "      <td>NaN</td>\n",
              "      <td>TRIANGLE</td>\n",
              "      <td>NY</td>\n",
              "      <td>6/1/1930 22:00</td>\n",
              "    </tr>\n",
              "    <tr>\n",
              "      <th>1</th>\n",
              "      <td>Willingboro</td>\n",
              "      <td>NaN</td>\n",
              "      <td>OTHER</td>\n",
              "      <td>NJ</td>\n",
              "      <td>6/30/1930 20:00</td>\n",
              "    </tr>\n",
              "    <tr>\n",
              "      <th>2</th>\n",
              "      <td>Holyoke</td>\n",
              "      <td>NaN</td>\n",
              "      <td>OVAL</td>\n",
              "      <td>CO</td>\n",
              "      <td>2/15/1931 14:00</td>\n",
              "    </tr>\n",
              "    <tr>\n",
              "      <th>3</th>\n",
              "      <td>Abilene</td>\n",
              "      <td>NaN</td>\n",
              "      <td>DISK</td>\n",
              "      <td>KS</td>\n",
              "      <td>6/1/1931 13:00</td>\n",
              "    </tr>\n",
              "    <tr>\n",
              "      <th>4</th>\n",
              "      <td>New York Worlds Fair</td>\n",
              "      <td>NaN</td>\n",
              "      <td>LIGHT</td>\n",
              "      <td>NY</td>\n",
              "      <td>4/18/1933 19:00</td>\n",
              "    </tr>\n",
              "  </tbody>\n",
              "</table>\n",
              "</div>"
            ],
            "text/plain": [
              "                   City Colors Reported Shape Reported State             Time\n",
              "0                Ithaca             NaN       TRIANGLE    NY   6/1/1930 22:00\n",
              "1           Willingboro             NaN          OTHER    NJ  6/30/1930 20:00\n",
              "2               Holyoke             NaN           OVAL    CO  2/15/1931 14:00\n",
              "3               Abilene             NaN           DISK    KS   6/1/1931 13:00\n",
              "4  New York Worlds Fair             NaN          LIGHT    NY  4/18/1933 19:00"
            ]
          },
          "metadata": {
            "tags": []
          },
          "execution_count": 17
        }
      ]
    },
    {
      "cell_type": "code",
      "metadata": {
        "colab": {
          "base_uri": "https://localhost:8080/"
        },
        "id": "sWI_HvDF_Gvo",
        "outputId": "2d1ac035-8d20-4d17-9bcd-8f0143066da2"
      },
      "source": [
        "ufo.Time.str.slice(-5, -3).astype(int).head()"
      ],
      "execution_count": 18,
      "outputs": [
        {
          "output_type": "execute_result",
          "data": {
            "text/plain": [
              "0    22\n",
              "1    20\n",
              "2    14\n",
              "3    13\n",
              "4    19\n",
              "Name: Time, dtype: int64"
            ]
          },
          "metadata": {
            "tags": []
          },
          "execution_count": 18
        }
      ]
    },
    {
      "cell_type": "code",
      "metadata": {
        "id": "LBWb3YiV_fBP"
      },
      "source": [
        "ufo['Time'] = pd.to_datetime(ufo.Time)"
      ],
      "execution_count": 19,
      "outputs": []
    },
    {
      "cell_type": "code",
      "metadata": {
        "colab": {
          "base_uri": "https://localhost:8080/",
          "height": 0
        },
        "id": "MGhGNsRYAIEA",
        "outputId": "b69455e1-a66e-4195-fe5b-64ae06dffa00"
      },
      "source": [
        "ufo.head()"
      ],
      "execution_count": 20,
      "outputs": [
        {
          "output_type": "execute_result",
          "data": {
            "text/html": [
              "<div>\n",
              "<style scoped>\n",
              "    .dataframe tbody tr th:only-of-type {\n",
              "        vertical-align: middle;\n",
              "    }\n",
              "\n",
              "    .dataframe tbody tr th {\n",
              "        vertical-align: top;\n",
              "    }\n",
              "\n",
              "    .dataframe thead th {\n",
              "        text-align: right;\n",
              "    }\n",
              "</style>\n",
              "<table border=\"1\" class=\"dataframe\">\n",
              "  <thead>\n",
              "    <tr style=\"text-align: right;\">\n",
              "      <th></th>\n",
              "      <th>City</th>\n",
              "      <th>Colors Reported</th>\n",
              "      <th>Shape Reported</th>\n",
              "      <th>State</th>\n",
              "      <th>Time</th>\n",
              "    </tr>\n",
              "  </thead>\n",
              "  <tbody>\n",
              "    <tr>\n",
              "      <th>0</th>\n",
              "      <td>Ithaca</td>\n",
              "      <td>NaN</td>\n",
              "      <td>TRIANGLE</td>\n",
              "      <td>NY</td>\n",
              "      <td>1930-06-01 22:00:00</td>\n",
              "    </tr>\n",
              "    <tr>\n",
              "      <th>1</th>\n",
              "      <td>Willingboro</td>\n",
              "      <td>NaN</td>\n",
              "      <td>OTHER</td>\n",
              "      <td>NJ</td>\n",
              "      <td>1930-06-30 20:00:00</td>\n",
              "    </tr>\n",
              "    <tr>\n",
              "      <th>2</th>\n",
              "      <td>Holyoke</td>\n",
              "      <td>NaN</td>\n",
              "      <td>OVAL</td>\n",
              "      <td>CO</td>\n",
              "      <td>1931-02-15 14:00:00</td>\n",
              "    </tr>\n",
              "    <tr>\n",
              "      <th>3</th>\n",
              "      <td>Abilene</td>\n",
              "      <td>NaN</td>\n",
              "      <td>DISK</td>\n",
              "      <td>KS</td>\n",
              "      <td>1931-06-01 13:00:00</td>\n",
              "    </tr>\n",
              "    <tr>\n",
              "      <th>4</th>\n",
              "      <td>New York Worlds Fair</td>\n",
              "      <td>NaN</td>\n",
              "      <td>LIGHT</td>\n",
              "      <td>NY</td>\n",
              "      <td>1933-04-18 19:00:00</td>\n",
              "    </tr>\n",
              "  </tbody>\n",
              "</table>\n",
              "</div>"
            ],
            "text/plain": [
              "                   City Colors Reported  ... State                Time\n",
              "0                Ithaca             NaN  ...    NY 1930-06-01 22:00:00\n",
              "1           Willingboro             NaN  ...    NJ 1930-06-30 20:00:00\n",
              "2               Holyoke             NaN  ...    CO 1931-02-15 14:00:00\n",
              "3               Abilene             NaN  ...    KS 1931-06-01 13:00:00\n",
              "4  New York Worlds Fair             NaN  ...    NY 1933-04-18 19:00:00\n",
              "\n",
              "[5 rows x 5 columns]"
            ]
          },
          "metadata": {
            "tags": []
          },
          "execution_count": 20
        }
      ]
    },
    {
      "cell_type": "code",
      "metadata": {
        "colab": {
          "base_uri": "https://localhost:8080/"
        },
        "id": "_1VRyDnHAOUA",
        "outputId": "fedd5b9b-752a-42bd-e394-f7a95e964234"
      },
      "source": [
        "ufo.dtypes"
      ],
      "execution_count": 21,
      "outputs": [
        {
          "output_type": "execute_result",
          "data": {
            "text/plain": [
              "City                       object\n",
              "Colors Reported            object\n",
              "Shape Reported             object\n",
              "State                      object\n",
              "Time               datetime64[ns]\n",
              "dtype: object"
            ]
          },
          "metadata": {
            "tags": []
          },
          "execution_count": 21
        }
      ]
    },
    {
      "cell_type": "code",
      "metadata": {
        "colab": {
          "base_uri": "https://localhost:8080/"
        },
        "id": "wrH4dBW3AXOi",
        "outputId": "b3a9b2ed-cadc-431b-cd27-0a94d0481a6c"
      },
      "source": [
        "ufo.Time.dt.day_name()"
      ],
      "execution_count": 22,
      "outputs": [
        {
          "output_type": "execute_result",
          "data": {
            "text/plain": [
              "0         Sunday\n",
              "1         Monday\n",
              "2         Sunday\n",
              "3         Monday\n",
              "4        Tuesday\n",
              "          ...   \n",
              "18236     Sunday\n",
              "18237     Sunday\n",
              "18238     Sunday\n",
              "18239     Sunday\n",
              "18240     Sunday\n",
              "Name: Time, Length: 18241, dtype: object"
            ]
          },
          "metadata": {
            "tags": []
          },
          "execution_count": 22
        }
      ]
    },
    {
      "cell_type": "code",
      "metadata": {
        "colab": {
          "base_uri": "https://localhost:8080/"
        },
        "id": "xhV8fSwcA_g7",
        "outputId": "70947fa9-b77c-4991-dee0-eb831b3495b3"
      },
      "source": [
        "ts = pd.to_datetime('1/2/1999')\n",
        "print(ts)"
      ],
      "execution_count": 23,
      "outputs": [
        {
          "output_type": "stream",
          "text": [
            "1999-01-02 00:00:00\n"
          ],
          "name": "stdout"
        }
      ]
    },
    {
      "cell_type": "code",
      "metadata": {
        "colab": {
          "base_uri": "https://localhost:8080/",
          "height": 0
        },
        "id": "YuqNQSPXDR3W",
        "outputId": "ccddca59-70c5-4401-ca86-cb04676137de"
      },
      "source": [
        "ufo.loc[ufo.Time >= ts, :].head()"
      ],
      "execution_count": 24,
      "outputs": [
        {
          "output_type": "execute_result",
          "data": {
            "text/html": [
              "<div>\n",
              "<style scoped>\n",
              "    .dataframe tbody tr th:only-of-type {\n",
              "        vertical-align: middle;\n",
              "    }\n",
              "\n",
              "    .dataframe tbody tr th {\n",
              "        vertical-align: top;\n",
              "    }\n",
              "\n",
              "    .dataframe thead th {\n",
              "        text-align: right;\n",
              "    }\n",
              "</style>\n",
              "<table border=\"1\" class=\"dataframe\">\n",
              "  <thead>\n",
              "    <tr style=\"text-align: right;\">\n",
              "      <th></th>\n",
              "      <th>City</th>\n",
              "      <th>Colors Reported</th>\n",
              "      <th>Shape Reported</th>\n",
              "      <th>State</th>\n",
              "      <th>Time</th>\n",
              "    </tr>\n",
              "  </thead>\n",
              "  <tbody>\n",
              "    <tr>\n",
              "      <th>12843</th>\n",
              "      <td>Seattle</td>\n",
              "      <td>GREEN</td>\n",
              "      <td>LIGHT</td>\n",
              "      <td>WA</td>\n",
              "      <td>1999-01-02 17:42:00</td>\n",
              "    </tr>\n",
              "    <tr>\n",
              "      <th>12844</th>\n",
              "      <td>Vancouver</td>\n",
              "      <td>GREEN</td>\n",
              "      <td>FIREBALL</td>\n",
              "      <td>WA</td>\n",
              "      <td>1999-01-02 18:30:00</td>\n",
              "    </tr>\n",
              "    <tr>\n",
              "      <th>12845</th>\n",
              "      <td>Spirit Lake</td>\n",
              "      <td>RED GREEN</td>\n",
              "      <td>LIGHT</td>\n",
              "      <td>ID</td>\n",
              "      <td>1999-01-02 20:00:00</td>\n",
              "    </tr>\n",
              "    <tr>\n",
              "      <th>12846</th>\n",
              "      <td>Jacksonville</td>\n",
              "      <td>RED BLUE</td>\n",
              "      <td>OTHER</td>\n",
              "      <td>FL</td>\n",
              "      <td>1999-01-02 20:30:00</td>\n",
              "    </tr>\n",
              "    <tr>\n",
              "      <th>12847</th>\n",
              "      <td>Marysville</td>\n",
              "      <td>RED GREEN</td>\n",
              "      <td>SPHERE</td>\n",
              "      <td>CA</td>\n",
              "      <td>1999-01-02 22:12:00</td>\n",
              "    </tr>\n",
              "  </tbody>\n",
              "</table>\n",
              "</div>"
            ],
            "text/plain": [
              "               City Colors Reported Shape Reported State                Time\n",
              "12843       Seattle           GREEN          LIGHT    WA 1999-01-02 17:42:00\n",
              "12844     Vancouver           GREEN       FIREBALL    WA 1999-01-02 18:30:00\n",
              "12845   Spirit Lake       RED GREEN          LIGHT    ID 1999-01-02 20:00:00\n",
              "12846  Jacksonville        RED BLUE          OTHER    FL 1999-01-02 20:30:00\n",
              "12847    Marysville       RED GREEN         SPHERE    CA 1999-01-02 22:12:00"
            ]
          },
          "metadata": {
            "tags": []
          },
          "execution_count": 24
        }
      ]
    },
    {
      "cell_type": "code",
      "metadata": {
        "colab": {
          "base_uri": "https://localhost:8080/"
        },
        "id": "KFn8yCWuDkjR",
        "outputId": "e5cfeb00-1a84-4198-951f-527cbbd68447"
      },
      "source": [
        "(ufo.Time.max()-ufo.Time.min()).days"
      ],
      "execution_count": 25,
      "outputs": [
        {
          "output_type": "execute_result",
          "data": {
            "text/plain": [
              "25781"
            ]
          },
          "metadata": {
            "tags": []
          },
          "execution_count": 25
        }
      ]
    },
    {
      "cell_type": "markdown",
      "metadata": {
        "id": "H4Ht_GPnFE6V"
      },
      "source": [
        "# Hierarchical Index"
      ]
    },
    {
      "cell_type": "code",
      "metadata": {
        "id": "KxrbxxRcFILm"
      },
      "source": [
        "raw_data = {\n",
        "    'city': ['Tripoli', 'Tripoli', 'Rome', 'Rome', 'Sydney', 'Sydney'],\n",
        "    'rank': ['1st','2nd','1st','2nd','1st','2nd'],\n",
        "    'name': ['Noureddin','Adam','Kevin','Raihana','Raghad','Mahdi'],\n",
        "    'score1': [44,48,39,41,39,44],\n",
        "    'score2': [67,63,55,70,64,77]\n",
        "}"
      ],
      "execution_count": 26,
      "outputs": []
    },
    {
      "cell_type": "code",
      "metadata": {
        "colab": {
          "base_uri": "https://localhost:8080/",
          "height": 233
        },
        "id": "4D0R9EG9YZoV",
        "outputId": "995f7841-e455-401e-db35-dda2f664d7e5"
      },
      "source": [
        "df = pd.DataFrame(raw_data, columns=['city', 'rank', 'name', 'score1', 'score2'])\n",
        "df"
      ],
      "execution_count": 32,
      "outputs": [
        {
          "output_type": "execute_result",
          "data": {
            "text/html": [
              "<div>\n",
              "<style scoped>\n",
              "    .dataframe tbody tr th:only-of-type {\n",
              "        vertical-align: middle;\n",
              "    }\n",
              "\n",
              "    .dataframe tbody tr th {\n",
              "        vertical-align: top;\n",
              "    }\n",
              "\n",
              "    .dataframe thead th {\n",
              "        text-align: right;\n",
              "    }\n",
              "</style>\n",
              "<table border=\"1\" class=\"dataframe\">\n",
              "  <thead>\n",
              "    <tr style=\"text-align: right;\">\n",
              "      <th></th>\n",
              "      <th>city</th>\n",
              "      <th>rank</th>\n",
              "      <th>name</th>\n",
              "      <th>score1</th>\n",
              "      <th>score2</th>\n",
              "    </tr>\n",
              "  </thead>\n",
              "  <tbody>\n",
              "    <tr>\n",
              "      <th>0</th>\n",
              "      <td>Tripoli</td>\n",
              "      <td>1st</td>\n",
              "      <td>Noureddin</td>\n",
              "      <td>44</td>\n",
              "      <td>67</td>\n",
              "    </tr>\n",
              "    <tr>\n",
              "      <th>1</th>\n",
              "      <td>Tripoli</td>\n",
              "      <td>2nd</td>\n",
              "      <td>Adam</td>\n",
              "      <td>48</td>\n",
              "      <td>63</td>\n",
              "    </tr>\n",
              "    <tr>\n",
              "      <th>2</th>\n",
              "      <td>Rome</td>\n",
              "      <td>1st</td>\n",
              "      <td>Kevin</td>\n",
              "      <td>39</td>\n",
              "      <td>55</td>\n",
              "    </tr>\n",
              "    <tr>\n",
              "      <th>3</th>\n",
              "      <td>Rome</td>\n",
              "      <td>2nd</td>\n",
              "      <td>Raihana</td>\n",
              "      <td>41</td>\n",
              "      <td>70</td>\n",
              "    </tr>\n",
              "    <tr>\n",
              "      <th>4</th>\n",
              "      <td>Sydney</td>\n",
              "      <td>1st</td>\n",
              "      <td>Raghad</td>\n",
              "      <td>39</td>\n",
              "      <td>64</td>\n",
              "    </tr>\n",
              "    <tr>\n",
              "      <th>5</th>\n",
              "      <td>Sydney</td>\n",
              "      <td>2nd</td>\n",
              "      <td>Mahdi</td>\n",
              "      <td>44</td>\n",
              "      <td>77</td>\n",
              "    </tr>\n",
              "  </tbody>\n",
              "</table>\n",
              "</div>"
            ],
            "text/plain": [
              "      city rank       name  score1  score2\n",
              "0  Tripoli  1st  Noureddin      44      67\n",
              "1  Tripoli  2nd       Adam      48      63\n",
              "2     Rome  1st      Kevin      39      55\n",
              "3     Rome  2nd    Raihana      41      70\n",
              "4   Sydney  1st     Raghad      39      64\n",
              "5   Sydney  2nd      Mahdi      44      77"
            ]
          },
          "metadata": {
            "tags": []
          },
          "execution_count": 32
        }
      ]
    },
    {
      "cell_type": "code",
      "metadata": {
        "colab": {
          "base_uri": "https://localhost:8080/",
          "height": 263
        },
        "id": "5LCVmeTyY5IB",
        "outputId": "6a0d3358-70fc-4473-8b0b-af027901c6de"
      },
      "source": [
        "df.set_index(['city', 'rank'])"
      ],
      "execution_count": 35,
      "outputs": [
        {
          "output_type": "execute_result",
          "data": {
            "text/html": [
              "<div>\n",
              "<style scoped>\n",
              "    .dataframe tbody tr th:only-of-type {\n",
              "        vertical-align: middle;\n",
              "    }\n",
              "\n",
              "    .dataframe tbody tr th {\n",
              "        vertical-align: top;\n",
              "    }\n",
              "\n",
              "    .dataframe thead th {\n",
              "        text-align: right;\n",
              "    }\n",
              "</style>\n",
              "<table border=\"1\" class=\"dataframe\">\n",
              "  <thead>\n",
              "    <tr style=\"text-align: right;\">\n",
              "      <th></th>\n",
              "      <th></th>\n",
              "      <th>name</th>\n",
              "      <th>score1</th>\n",
              "      <th>score2</th>\n",
              "    </tr>\n",
              "    <tr>\n",
              "      <th>city</th>\n",
              "      <th>rank</th>\n",
              "      <th></th>\n",
              "      <th></th>\n",
              "      <th></th>\n",
              "    </tr>\n",
              "  </thead>\n",
              "  <tbody>\n",
              "    <tr>\n",
              "      <th rowspan=\"2\" valign=\"top\">Tripoli</th>\n",
              "      <th>1st</th>\n",
              "      <td>Noureddin</td>\n",
              "      <td>44</td>\n",
              "      <td>67</td>\n",
              "    </tr>\n",
              "    <tr>\n",
              "      <th>2nd</th>\n",
              "      <td>Adam</td>\n",
              "      <td>48</td>\n",
              "      <td>63</td>\n",
              "    </tr>\n",
              "    <tr>\n",
              "      <th rowspan=\"2\" valign=\"top\">Rome</th>\n",
              "      <th>1st</th>\n",
              "      <td>Kevin</td>\n",
              "      <td>39</td>\n",
              "      <td>55</td>\n",
              "    </tr>\n",
              "    <tr>\n",
              "      <th>2nd</th>\n",
              "      <td>Raihana</td>\n",
              "      <td>41</td>\n",
              "      <td>70</td>\n",
              "    </tr>\n",
              "    <tr>\n",
              "      <th rowspan=\"2\" valign=\"top\">Sydney</th>\n",
              "      <th>1st</th>\n",
              "      <td>Raghad</td>\n",
              "      <td>39</td>\n",
              "      <td>64</td>\n",
              "    </tr>\n",
              "    <tr>\n",
              "      <th>2nd</th>\n",
              "      <td>Mahdi</td>\n",
              "      <td>44</td>\n",
              "      <td>77</td>\n",
              "    </tr>\n",
              "  </tbody>\n",
              "</table>\n",
              "</div>"
            ],
            "text/plain": [
              "                   name  score1  score2\n",
              "city    rank                           \n",
              "Tripoli 1st   Noureddin      44      67\n",
              "        2nd        Adam      48      63\n",
              "Rome    1st       Kevin      39      55\n",
              "        2nd     Raihana      41      70\n",
              "Sydney  1st      Raghad      39      64\n",
              "        2nd       Mahdi      44      77"
            ]
          },
          "metadata": {
            "tags": []
          },
          "execution_count": 35
        }
      ]
    },
    {
      "cell_type": "code",
      "metadata": {
        "id": "TtZA1-_GZcts"
      },
      "source": [
        "df.set_index(['city', 'rank'], drop=True, inplace=True)"
      ],
      "execution_count": 36,
      "outputs": []
    },
    {
      "cell_type": "code",
      "metadata": {
        "colab": {
          "base_uri": "https://localhost:8080/",
          "height": 263
        },
        "id": "28i5dmL8ZnxG",
        "outputId": "646cf14f-e366-41d8-f430-d556dbffb9c2"
      },
      "source": [
        "df"
      ],
      "execution_count": 37,
      "outputs": [
        {
          "output_type": "execute_result",
          "data": {
            "text/html": [
              "<div>\n",
              "<style scoped>\n",
              "    .dataframe tbody tr th:only-of-type {\n",
              "        vertical-align: middle;\n",
              "    }\n",
              "\n",
              "    .dataframe tbody tr th {\n",
              "        vertical-align: top;\n",
              "    }\n",
              "\n",
              "    .dataframe thead th {\n",
              "        text-align: right;\n",
              "    }\n",
              "</style>\n",
              "<table border=\"1\" class=\"dataframe\">\n",
              "  <thead>\n",
              "    <tr style=\"text-align: right;\">\n",
              "      <th></th>\n",
              "      <th></th>\n",
              "      <th>name</th>\n",
              "      <th>score1</th>\n",
              "      <th>score2</th>\n",
              "    </tr>\n",
              "    <tr>\n",
              "      <th>city</th>\n",
              "      <th>rank</th>\n",
              "      <th></th>\n",
              "      <th></th>\n",
              "      <th></th>\n",
              "    </tr>\n",
              "  </thead>\n",
              "  <tbody>\n",
              "    <tr>\n",
              "      <th rowspan=\"2\" valign=\"top\">Tripoli</th>\n",
              "      <th>1st</th>\n",
              "      <td>Noureddin</td>\n",
              "      <td>44</td>\n",
              "      <td>67</td>\n",
              "    </tr>\n",
              "    <tr>\n",
              "      <th>2nd</th>\n",
              "      <td>Adam</td>\n",
              "      <td>48</td>\n",
              "      <td>63</td>\n",
              "    </tr>\n",
              "    <tr>\n",
              "      <th rowspan=\"2\" valign=\"top\">Rome</th>\n",
              "      <th>1st</th>\n",
              "      <td>Kevin</td>\n",
              "      <td>39</td>\n",
              "      <td>55</td>\n",
              "    </tr>\n",
              "    <tr>\n",
              "      <th>2nd</th>\n",
              "      <td>Raihana</td>\n",
              "      <td>41</td>\n",
              "      <td>70</td>\n",
              "    </tr>\n",
              "    <tr>\n",
              "      <th rowspan=\"2\" valign=\"top\">Sydney</th>\n",
              "      <th>1st</th>\n",
              "      <td>Raghad</td>\n",
              "      <td>39</td>\n",
              "      <td>64</td>\n",
              "    </tr>\n",
              "    <tr>\n",
              "      <th>2nd</th>\n",
              "      <td>Mahdi</td>\n",
              "      <td>44</td>\n",
              "      <td>77</td>\n",
              "    </tr>\n",
              "  </tbody>\n",
              "</table>\n",
              "</div>"
            ],
            "text/plain": [
              "                   name  score1  score2\n",
              "city    rank                           \n",
              "Tripoli 1st   Noureddin      44      67\n",
              "        2nd        Adam      48      63\n",
              "Rome    1st       Kevin      39      55\n",
              "        2nd     Raihana      41      70\n",
              "Sydney  1st      Raghad      39      64\n",
              "        2nd       Mahdi      44      77"
            ]
          },
          "metadata": {
            "tags": []
          },
          "execution_count": 37
        }
      ]
    },
    {
      "cell_type": "code",
      "metadata": {
        "colab": {
          "base_uri": "https://localhost:8080/"
        },
        "id": "ST--verfZopm",
        "outputId": "04b9f280-eaaa-4cc4-9e54-63ce9dccd851"
      },
      "source": [
        "df.index"
      ],
      "execution_count": 38,
      "outputs": [
        {
          "output_type": "execute_result",
          "data": {
            "text/plain": [
              "MultiIndex([('Tripoli', '1st'),\n",
              "            ('Tripoli', '2nd'),\n",
              "            (   'Rome', '1st'),\n",
              "            (   'Rome', '2nd'),\n",
              "            ( 'Sydney', '1st'),\n",
              "            ( 'Sydney', '2nd')],\n",
              "           names=['city', 'rank'])"
            ]
          },
          "metadata": {
            "tags": []
          },
          "execution_count": 38
        }
      ]
    },
    {
      "cell_type": "markdown",
      "metadata": {
        "id": "o7i8B96qaO3p"
      },
      "source": [
        "# Test"
      ]
    },
    {
      "cell_type": "code",
      "metadata": {
        "colab": {
          "base_uri": "https://localhost:8080/"
        },
        "id": "sGUoyqczaQ4Q",
        "outputId": "fadd838e-c005-4e2f-fbac-59b952a6cad1"
      },
      "source": [
        "d = pd.date_range('11-Sep-2017', '17-Sep-2017', freq='2D')\n",
        "len(d[d.isin(pd.to_datetime(['12-09-2017', '15-09-2017']))])"
      ],
      "execution_count": 39,
      "outputs": [
        {
          "output_type": "execute_result",
          "data": {
            "text/plain": [
              "1"
            ]
          },
          "metadata": {
            "tags": []
          },
          "execution_count": 39
        }
      ]
    },
    {
      "cell_type": "code",
      "metadata": {
        "colab": {
          "base_uri": "https://localhost:8080/"
        },
        "id": "9ocCEIb0aRoZ",
        "outputId": "3b67a49d-f259-4ae9-9bb9-1fe1013927f1"
      },
      "source": [
        "len(pd.period_range('11-Sep-2017', '17-Sep-2017', freq='M'))"
      ],
      "execution_count": 41,
      "outputs": [
        {
          "output_type": "execute_result",
          "data": {
            "text/plain": [
              "1"
            ]
          },
          "metadata": {
            "tags": []
          },
          "execution_count": 41
        }
      ]
    },
    {
      "cell_type": "code",
      "metadata": {
        "colab": {
          "base_uri": "https://localhost:8080/"
        },
        "id": "MqEwlO_0abtC",
        "outputId": "48ea10b8-9386-4940-fca7-383dbd3f36c6"
      },
      "source": [
        "d = pd.date_range('11-Sep-2017', '17-Sep-2017', freq='2D')\n",
        "d + pd.Timedelta('1 days 2 hours')\n",
        "d"
      ],
      "execution_count": 42,
      "outputs": [
        {
          "output_type": "execute_result",
          "data": {
            "text/plain": [
              "DatetimeIndex(['2017-09-11', '2017-09-13', '2017-09-15', '2017-09-17'], dtype='datetime64[ns]', freq='2D')"
            ]
          },
          "metadata": {
            "tags": []
          },
          "execution_count": 42
        }
      ]
    }
  ]
}