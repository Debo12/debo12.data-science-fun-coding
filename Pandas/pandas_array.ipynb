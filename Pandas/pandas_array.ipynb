{
  "nbformat": 4,
  "nbformat_minor": 0,
  "metadata": {
    "colab": {
      "name": "pandas-array.ipynb",
      "provenance": [],
      "collapsed_sections": [],
      "authorship_tag": "ABX9TyMpgd9SY41I58XeR9B/bxZg",
      "include_colab_link": true
    },
    "kernelspec": {
      "name": "python3",
      "display_name": "Python 3"
    },
    "language_info": {
      "name": "python"
    }
  },
  "cells": [
    {
      "cell_type": "markdown",
      "metadata": {
        "id": "view-in-github",
        "colab_type": "text"
      },
      "source": [
        "<a href=\"https://colab.research.google.com/github/Debo12/debo12.pandas-fp/blob/main/pandas_array.ipynb\" target=\"_parent\"><img src=\"https://colab.research.google.com/assets/colab-badge.svg\" alt=\"Open In Colab\"/></a>"
      ]
    },
    {
      "cell_type": "code",
      "metadata": {
        "id": "jePHAs8bfMd_"
      },
      "source": [
        "import pandas as pd\n",
        "import numpy as np"
      ],
      "execution_count": 38,
      "outputs": []
    },
    {
      "cell_type": "code",
      "metadata": {
        "id": "v-M7-oSXkzfe"
      },
      "source": [
        "np_arr = np.arange(10, 16)"
      ],
      "execution_count": 39,
      "outputs": []
    },
    {
      "cell_type": "code",
      "metadata": {
        "id": "DP7TIaM-k-jV"
      },
      "source": [
        "pd_series = pd.Series(np_arr, index=list('abcdef'))"
      ],
      "execution_count": 40,
      "outputs": []
    },
    {
      "cell_type": "markdown",
      "metadata": {
        "id": "y8TyZiEEmcMW"
      },
      "source": [
        "# Accessing Single Value"
      ]
    },
    {
      "cell_type": "code",
      "metadata": {
        "colab": {
          "base_uri": "https://localhost:8080/"
        },
        "id": "qr9eSRaLliGa",
        "outputId": "282528ca-b39c-4d6d-9a66-090c68fe7f43"
      },
      "source": [
        "pd_series[2]"
      ],
      "execution_count": 41,
      "outputs": [
        {
          "output_type": "execute_result",
          "data": {
            "text/plain": [
              "12"
            ]
          },
          "metadata": {
            "tags": []
          },
          "execution_count": 41
        }
      ]
    },
    {
      "cell_type": "code",
      "metadata": {
        "colab": {
          "base_uri": "https://localhost:8080/"
        },
        "id": "80cG1cxkmA7T",
        "outputId": "5972d12e-9511-41b6-f0ff-a95222d6c890"
      },
      "source": [
        "pd_series['d']"
      ],
      "execution_count": 42,
      "outputs": [
        {
          "output_type": "execute_result",
          "data": {
            "text/plain": [
              "13"
            ]
          },
          "metadata": {
            "tags": []
          },
          "execution_count": 42
        }
      ]
    },
    {
      "cell_type": "code",
      "metadata": {
        "colab": {
          "base_uri": "https://localhost:8080/"
        },
        "id": "kW5k208EmsUZ",
        "outputId": "cbd3bb6c-5931-47ae-f9c2-8b7054184fc8"
      },
      "source": [
        "pd_series.get('e')"
      ],
      "execution_count": 43,
      "outputs": [
        {
          "output_type": "execute_result",
          "data": {
            "text/plain": [
              "14"
            ]
          },
          "metadata": {
            "tags": []
          },
          "execution_count": 43
        }
      ]
    },
    {
      "cell_type": "markdown",
      "metadata": {
        "id": "XjapmejFnCTc"
      },
      "source": [
        "# Accessing a Slice"
      ]
    },
    {
      "cell_type": "code",
      "metadata": {
        "colab": {
          "base_uri": "https://localhost:8080/"
        },
        "id": "qmTZXmCZnHDm",
        "outputId": "eaa873fa-19c1-4ec9-cc11-1d2f45ebee32"
      },
      "source": [
        "pd_series[1:5]"
      ],
      "execution_count": 44,
      "outputs": [
        {
          "output_type": "execute_result",
          "data": {
            "text/plain": [
              "b    11\n",
              "c    12\n",
              "d    13\n",
              "e    14\n",
              "dtype: int64"
            ]
          },
          "metadata": {
            "tags": []
          },
          "execution_count": 44
        }
      ]
    },
    {
      "cell_type": "code",
      "metadata": {
        "colab": {
          "base_uri": "https://localhost:8080/"
        },
        "id": "J_shvrEpnQBv",
        "outputId": "3f7f8a6b-b7ff-4cf6-9acb-1d766bbd5969"
      },
      "source": [
        "pd_series['a':'f']"
      ],
      "execution_count": 45,
      "outputs": [
        {
          "output_type": "execute_result",
          "data": {
            "text/plain": [
              "a    10\n",
              "b    11\n",
              "c    12\n",
              "d    13\n",
              "e    14\n",
              "f    15\n",
              "dtype: int64"
            ]
          },
          "metadata": {
            "tags": []
          },
          "execution_count": 45
        }
      ]
    },
    {
      "cell_type": "markdown",
      "metadata": {
        "id": "OxJd4RwzFOwb"
      },
      "source": [
        "# Accessing Dataframe"
      ]
    },
    {
      "cell_type": "code",
      "metadata": {
        "colab": {
          "base_uri": "https://localhost:8080/"
        },
        "id": "PnvEBZYmFRr-",
        "outputId": "43b0e14a-a543-4999-9a11-52c86eaa9066"
      },
      "source": [
        "df_data = {\n",
        "    'col1': np.random.rand(5),\n",
        "    'col2': np.random.rand(5),\n",
        "    'col3': np.random.rand(5)\n",
        "}\n",
        "\n",
        "df = pd.DataFrame(df_data)\n",
        "print(df)"
      ],
      "execution_count": 46,
      "outputs": [
        {
          "output_type": "stream",
          "text": [
            "       col1      col2      col3\n",
            "0  0.247112  0.011140  0.919454\n",
            "1  0.970478  0.774635  0.548167\n",
            "2  0.774337  0.172594  0.569165\n",
            "3  0.396350  0.573962  0.266929\n",
            "4  0.404210  0.596927  0.696154\n"
          ],
          "name": "stdout"
        }
      ]
    },
    {
      "cell_type": "code",
      "metadata": {
        "colab": {
          "base_uri": "https://localhost:8080/"
        },
        "id": "ksvVm-HgF5xc",
        "outputId": "b05a8d31-90ca-4440-eb71-6bcf81613198"
      },
      "source": [
        "# Access Row\n",
        "\n",
        "# Difference between loc and iloc\n",
        "# loc represents label while iloc represents index location\n",
        "\n",
        "#print(df[:2]) # access first 2 rows using slicing\n",
        "#print(df.loc[1])\n",
        "print(df.iloc[1])"
      ],
      "execution_count": 47,
      "outputs": [
        {
          "output_type": "stream",
          "text": [
            "col1    0.970478\n",
            "col2    0.774635\n",
            "col3    0.548167\n",
            "Name: 1, dtype: float64\n"
          ],
          "name": "stdout"
        }
      ]
    },
    {
      "cell_type": "code",
      "metadata": {
        "colab": {
          "base_uri": "https://localhost:8080/"
        },
        "id": "WozxF2C6GHiF",
        "outputId": "90c06809-6714-4818-b8a4-69c6c2efac65"
      },
      "source": [
        "# Access Column\n",
        "\n",
        "print(df[['col1', 'col2']])"
      ],
      "execution_count": 48,
      "outputs": [
        {
          "output_type": "stream",
          "text": [
            "       col1      col2\n",
            "0  0.247112  0.011140\n",
            "1  0.970478  0.774635\n",
            "2  0.774337  0.172594\n",
            "3  0.396350  0.573962\n",
            "4  0.404210  0.596927\n"
          ],
          "name": "stdout"
        }
      ]
    }
  ]
}