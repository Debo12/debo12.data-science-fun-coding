{
  "nbformat": 4,
  "nbformat_minor": 0,
  "metadata": {
    "colab": {
      "name": "pandas-read-from-html.ipynb",
      "provenance": [],
      "authorship_tag": "ABX9TyMYkZdfVU1gPJCs6jzzCgsK",
      "include_colab_link": true
    },
    "kernelspec": {
      "name": "python3",
      "display_name": "Python 3"
    },
    "language_info": {
      "name": "python"
    }
  },
  "cells": [
    {
      "cell_type": "markdown",
      "metadata": {
        "id": "view-in-github",
        "colab_type": "text"
      },
      "source": [
        "<a href=\"https://colab.research.google.com/github/Debo12/debo12.pandas-fp/blob/main/pandas_read_from_html.ipynb\" target=\"_parent\"><img src=\"https://colab.research.google.com/assets/colab-badge.svg\" alt=\"Open In Colab\"/></a>"
      ]
    },
    {
      "cell_type": "code",
      "metadata": {
        "id": "elc4tTLe0_yt"
      },
      "source": [
        "import requests\n",
        "import seaborn as sns\n",
        "import pandas as pd"
      ],
      "execution_count": 3,
      "outputs": []
    },
    {
      "cell_type": "code",
      "metadata": {
        "id": "rv3X9ztk1Nh_"
      },
      "source": [
        "url = 'https://www.eia.gov/electricity/monthly/epm_table_grapher.php?t=epmt_5_6_a'"
      ],
      "execution_count": 4,
      "outputs": []
    },
    {
      "cell_type": "code",
      "metadata": {
        "id": "REHP9k8U1ZqA"
      },
      "source": [
        "df = pd.read_html(url, header=0)"
      ],
      "execution_count": 14,
      "outputs": []
    },
    {
      "cell_type": "code",
      "metadata": {
        "colab": {
          "base_uri": "https://localhost:8080/"
        },
        "id": "1hGJI7Wt1zNE",
        "outputId": "94764fe3-9530-40fa-95af-981a80c8d703"
      },
      "source": [
        "print(df[1])"
      ],
      "execution_count": 15,
      "outputs": [
        {
          "output_type": "stream",
          "text": [
            "                  Unnamed: 0    Residential  ...    All Sectors  All Sectors.1\n",
            "0   Census Divisionand State  February 2021  ...  February 2021  February 2020\n",
            "1                New England          21.50  ...          18.46          18.18\n",
            "2                Connecticut          22.69  ...          19.63          19.82\n",
            "3                      Maine          16.24  ...          14.06          13.78\n",
            "4              Massachusetts          22.63  ...          19.07          18.66\n",
            "..                       ...            ...  ...            ...            ...\n",
            "58                Washington           9.80  ...           8.81           8.13\n",
            "59     Pacific Noncontiguous          27.10  ...          25.18          25.53\n",
            "60                    Alaska          21.63  ...          19.63          19.93\n",
            "61                    Hawaii          32.36  ...          29.73          30.07\n",
            "62                U.S. Total          13.34  ...          11.60          10.29\n",
            "\n",
            "[63 rows x 11 columns]\n"
          ],
          "name": "stdout"
        }
      ]
    },
    {
      "cell_type": "code",
      "metadata": {
        "colab": {
          "base_uri": "https://localhost:8080/"
        },
        "id": "XIACswF911uZ",
        "outputId": "c6ce9271-00e1-49ae-b274-1c0b06fd94c6"
      },
      "source": [
        "print(df[1][1:])"
      ],
      "execution_count": 17,
      "outputs": [
        {
          "output_type": "stream",
          "text": [
            "               Unnamed: 0 Residential  ... All Sectors All Sectors.1\n",
            "1             New England       21.50  ...       18.46         18.18\n",
            "2             Connecticut       22.69  ...       19.63         19.82\n",
            "3                   Maine       16.24  ...       14.06         13.78\n",
            "4           Massachusetts       22.63  ...       19.07         18.66\n",
            "5           New Hampshire       19.27  ...       17.49         16.96\n",
            "..                    ...         ...  ...         ...           ...\n",
            "58             Washington        9.80  ...        8.81          8.13\n",
            "59  Pacific Noncontiguous       27.10  ...       25.18         25.53\n",
            "60                 Alaska       21.63  ...       19.63         19.93\n",
            "61                 Hawaii       32.36  ...       29.73         30.07\n",
            "62             U.S. Total       13.34  ...       11.60         10.29\n",
            "\n",
            "[62 rows x 11 columns]\n"
          ],
          "name": "stdout"
        }
      ]
    },
    {
      "cell_type": "code",
      "metadata": {
        "colab": {
          "base_uri": "https://localhost:8080/"
        },
        "id": "qXYMNB8j3Fmd",
        "outputId": "b45a6836-812b-4c9f-9b47-b6758f32ea50"
      },
      "source": [
        "print(df[1][1:].columns)"
      ],
      "execution_count": 18,
      "outputs": [
        {
          "output_type": "stream",
          "text": [
            "Index(['Unnamed: 0', 'Residential', 'Residential.1', 'Commercial',\n",
            "       'Commercial.1', 'Industrial', 'Industrial.1', 'Transportation',\n",
            "       'Transportation.1', 'All Sectors', 'All Sectors.1'],\n",
            "      dtype='object')\n"
          ],
          "name": "stdout"
        }
      ]
    },
    {
      "cell_type": "code",
      "metadata": {
        "id": "QCH36kVb33Mz"
      },
      "source": [
        ""
      ],
      "execution_count": null,
      "outputs": []
    }
  ]
}