{
  "nbformat": 4,
  "nbformat_minor": 0,
  "metadata": {
    "colab": {
      "name": "pandas-io.ipynb",
      "provenance": [],
      "authorship_tag": "ABX9TyPKdA26i8iVghLQ0PcZuNGN",
      "include_colab_link": true
    },
    "kernelspec": {
      "name": "python3",
      "display_name": "Python 3"
    },
    "language_info": {
      "name": "python"
    }
  },
  "cells": [
    {
      "cell_type": "markdown",
      "metadata": {
        "id": "view-in-github",
        "colab_type": "text"
      },
      "source": [
        "<a href=\"https://colab.research.google.com/github/Debo12/debo12.pandas-fp/blob/main/pandas_io.ipynb\" target=\"_parent\"><img src=\"https://colab.research.google.com/assets/colab-badge.svg\" alt=\"Open In Colab\"/></a>"
      ]
    },
    {
      "cell_type": "code",
      "metadata": {
        "id": "NY92GRNF7j3X"
      },
      "source": [
        "import numpy as np\n",
        "import pandas as pd"
      ],
      "execution_count": 19,
      "outputs": []
    },
    {
      "cell_type": "code",
      "metadata": {
        "id": "j-91zLSr438e",
        "colab": {
          "base_uri": "https://localhost:8080/"
        },
        "outputId": "09d83cf1-8d2f-4525-efef-fb4166b28946"
      },
      "source": [
        "data = pd.read_csv('/content/sample_data/california_housing_train.csv')\n",
        "data = data.values\n",
        "data = data[:, 7:9]\n",
        "data = pd.DataFrame(data)\n",
        "data.columns = ['median_income', 'median_house_value']\n",
        "print(data)"
      ],
      "execution_count": 20,
      "outputs": [
        {
          "output_type": "stream",
          "text": [
            "       median_income  median_house_value\n",
            "0             1.4936             66900.0\n",
            "1             1.8200             80100.0\n",
            "2             1.6509             85700.0\n",
            "3             3.1917             73400.0\n",
            "4             1.9250             65500.0\n",
            "...              ...                 ...\n",
            "16995         2.3571            111400.0\n",
            "16996         2.5179             79000.0\n",
            "16997         3.0313            103600.0\n",
            "16998         1.9797             85800.0\n",
            "16999         3.0147             94600.0\n",
            "\n",
            "[17000 rows x 2 columns]\n"
          ],
          "name": "stdout"
        }
      ]
    },
    {
      "cell_type": "code",
      "metadata": {
        "id": "P7WbtZHPHMmD",
        "colab": {
          "base_uri": "https://localhost:8080/"
        },
        "outputId": "35d51248-e2f0-4272-e7aa-20307767fa51"
      },
      "source": [
        "print(data.head())"
      ],
      "execution_count": 21,
      "outputs": [
        {
          "output_type": "stream",
          "text": [
            "   median_income  median_house_value\n",
            "0         1.4936             66900.0\n",
            "1         1.8200             80100.0\n",
            "2         1.6509             85700.0\n",
            "3         3.1917             73400.0\n",
            "4         1.9250             65500.0\n"
          ],
          "name": "stdout"
        }
      ]
    },
    {
      "cell_type": "code",
      "metadata": {
        "colab": {
          "base_uri": "https://localhost:8080/"
        },
        "id": "8rWVKY0eIHVm",
        "outputId": "dd4d2aae-3849-4654-e8ab-27b0eee016b7"
      },
      "source": [
        "data.columns"
      ],
      "execution_count": 22,
      "outputs": [
        {
          "output_type": "execute_result",
          "data": {
            "text/plain": [
              "Index(['median_income', 'median_house_value'], dtype='object')"
            ]
          },
          "metadata": {
            "tags": []
          },
          "execution_count": 22
        }
      ]
    },
    {
      "cell_type": "code",
      "metadata": {
        "id": "Tj1G9f6cJP90"
      },
      "source": [
        "data.set_index('median_house_value', inplace=True)\n",
        "data.to_csv('/content/sample_data/test.csv')"
      ],
      "execution_count": 23,
      "outputs": []
    },
    {
      "cell_type": "code",
      "metadata": {
        "colab": {
          "base_uri": "https://localhost:8080/"
        },
        "id": "oa9raengKAny",
        "outputId": "e2a067ec-543d-4269-c5c0-892dc342e227"
      },
      "source": [
        "data = pd.read_csv('/content/sample_data/test.csv')\n",
        "print(data.head())"
      ],
      "execution_count": 24,
      "outputs": [
        {
          "output_type": "stream",
          "text": [
            "   median_house_value  median_income\n",
            "0             66900.0         1.4936\n",
            "1             80100.0         1.8200\n",
            "2             85700.0         1.6509\n",
            "3             73400.0         3.1917\n",
            "4             65500.0         1.9250\n"
          ],
          "name": "stdout"
        }
      ]
    },
    {
      "cell_type": "code",
      "metadata": {
        "colab": {
          "base_uri": "https://localhost:8080/"
        },
        "id": "YE6nAkXOUsrO",
        "outputId": "52ba288d-59c0-4cc1-8a3c-c7133008b80c"
      },
      "source": [
        "data = pd.read_csv('/content/sample_data/test.csv', index_col=0)\n",
        "print(data.head())"
      ],
      "execution_count": 25,
      "outputs": [
        {
          "output_type": "stream",
          "text": [
            "                    median_income\n",
            "median_house_value               \n",
            "66900.0                    1.4936\n",
            "80100.0                    1.8200\n",
            "85700.0                    1.6509\n",
            "73400.0                    3.1917\n",
            "65500.0                    1.9250\n"
          ],
          "name": "stdout"
        }
      ]
    },
    {
      "cell_type": "code",
      "metadata": {
        "colab": {
          "base_uri": "https://localhost:8080/"
        },
        "id": "h6_g3s49XJOV",
        "outputId": "31cc6f84-46ec-4160-f98b-6aac7e583966"
      },
      "source": [
        "data.to_csv('/content/sample_data/test2.csv', header=False)\n",
        "data = pd.read_csv('/content/sample_data/test2.csv', names=['house value', 'income'], index_col=0)\n",
        "print(data.head())"
      ],
      "execution_count": 27,
      "outputs": [
        {
          "output_type": "stream",
          "text": [
            "   house value  income\n",
            "0      66900.0  1.4936\n",
            "1      80100.0  1.8200\n",
            "2      85700.0  1.6509\n",
            "3      73400.0  3.1917\n",
            "4      65500.0  1.9250\n"
          ],
          "name": "stdout"
        }
      ]
    },
    {
      "cell_type": "code",
      "metadata": {
        "id": "-CmhP7TqE0Dv"
      },
      "source": [
        "# Saving DataFrame into html file\n",
        "data.to_html('newhtml.html')"
      ],
      "execution_count": 28,
      "outputs": []
    },
    {
      "cell_type": "code",
      "metadata": {
        "colab": {
          "base_uri": "https://localhost:8080/"
        },
        "id": "qlrEpq2JIm21",
        "outputId": "60edc901-d25b-4c65-8e2b-2245100b8640"
      },
      "source": [
        "data = pd.read_csv('/content/sample_data/test2.csv', names=['house value', 'income'])\n",
        "print(data.head())"
      ],
      "execution_count": 30,
      "outputs": [
        {
          "output_type": "stream",
          "text": [
            "   house value  income\n",
            "0      66900.0  1.4936\n",
            "1      80100.0  1.8200\n",
            "2      85700.0  1.6509\n",
            "3      73400.0  3.1917\n",
            "4      65500.0  1.9250\n"
          ],
          "name": "stdout"
        }
      ]
    },
    {
      "cell_type": "code",
      "metadata": {
        "colab": {
          "base_uri": "https://localhost:8080/"
        },
        "id": "m-gMp6l-JvLQ",
        "outputId": "33bcd391-e752-48ac-dfe4-c534820565b7"
      },
      "source": [
        "# Changing only one column name\n",
        "data.rename(columns={'house value':'house_value'}, inplace=True)\n",
        "print(data.head())"
      ],
      "execution_count": 32,
      "outputs": [
        {
          "output_type": "stream",
          "text": [
            "   house_value  income\n",
            "0      66900.0  1.4936\n",
            "1      80100.0  1.8200\n",
            "2      85700.0  1.6509\n",
            "3      73400.0  3.1917\n",
            "4      65500.0  1.9250\n"
          ],
          "name": "stdout"
        }
      ]
    }
  ]
}