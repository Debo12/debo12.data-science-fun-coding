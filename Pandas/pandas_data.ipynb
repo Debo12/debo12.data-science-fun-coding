{
  "nbformat": 4,
  "nbformat_minor": 0,
  "metadata": {
    "colab": {
      "name": "pandas-data.ipynb",
      "provenance": [],
      "collapsed_sections": [
        "JnoJCRJ65eqs"
      ],
      "authorship_tag": "ABX9TyM7Hz05v6Gn7V1TyjcAVcLW",
      "include_colab_link": true
    },
    "kernelspec": {
      "name": "python3",
      "display_name": "Python 3"
    },
    "language_info": {
      "name": "python"
    }
  },
  "cells": [
    {
      "cell_type": "markdown",
      "metadata": {
        "id": "view-in-github",
        "colab_type": "text"
      },
      "source": [
        "<a href=\"https://colab.research.google.com/github/Debo12/debo12.pandas-fp/blob/main/pandas_data.ipynb\" target=\"_parent\"><img src=\"https://colab.research.google.com/assets/colab-badge.svg\" alt=\"Open In Colab\"/></a>"
      ]
    },
    {
      "cell_type": "code",
      "metadata": {
        "id": "u8R0vJyy3x0B"
      },
      "source": [
        "import numpy as np\n",
        "import pandas as pd"
      ],
      "execution_count": 1,
      "outputs": []
    },
    {
      "cell_type": "markdown",
      "metadata": {
        "id": "JnoJCRJ65eqs"
      },
      "source": [
        "# Knowing a Series"
      ]
    },
    {
      "cell_type": "code",
      "metadata": {
        "colab": {
          "base_uri": "https://localhost:8080/"
        },
        "id": "Al6ZqDFj4GtC",
        "outputId": "7b5f2ed6-83b9-4ff5-92ad-ecca40bf9a11"
      },
      "source": [
        "temp = pd.Series(28 + 10*np.random.randn(10))\n",
        "# print(temp)\n",
        "print(temp.describe())"
      ],
      "execution_count": 6,
      "outputs": [
        {
          "output_type": "stream",
          "text": [
            "count    10.000000\n",
            "mean     25.271761\n",
            "std      10.542007\n",
            "min      10.098869\n",
            "25%      18.031289\n",
            "50%      27.845387\n",
            "75%      29.727506\n",
            "max      39.900709\n",
            "dtype: float64\n"
          ],
          "name": "stdout"
        }
      ]
    },
    {
      "cell_type": "markdown",
      "metadata": {
        "id": "6g5fJF7T5ka0"
      },
      "source": [
        "# Knowing a DataFrame"
      ]
    },
    {
      "cell_type": "code",
      "metadata": {
        "id": "CG0TkNPm5oAO"
      },
      "source": [
        "df = pd.DataFrame({\n",
        "    'temp': pd.Series(28 + 10*np.random.randn(10)),\n",
        "    'rain': pd.Series(100 + 50*np.random.randn(10)),\n",
        "    'location': list('AAAAABBBBB')\n",
        "})"
      ],
      "execution_count": 8,
      "outputs": []
    },
    {
      "cell_type": "code",
      "metadata": {
        "colab": {
          "base_uri": "https://localhost:8080/"
        },
        "id": "WQcsK00Q6luO",
        "outputId": "89eb4dd6-6c83-43a2-fffa-8b61bbb4aa9c"
      },
      "source": [
        "print(df.info())"
      ],
      "execution_count": 9,
      "outputs": [
        {
          "output_type": "stream",
          "text": [
            "<class 'pandas.core.frame.DataFrame'>\n",
            "RangeIndex: 10 entries, 0 to 9\n",
            "Data columns (total 3 columns):\n",
            " #   Column    Non-Null Count  Dtype  \n",
            "---  ------    --------------  -----  \n",
            " 0   temp      10 non-null     float64\n",
            " 1   rain      10 non-null     float64\n",
            " 2   location  10 non-null     object \n",
            "dtypes: float64(2), object(1)\n",
            "memory usage: 368.0+ bytes\n",
            "None\n"
          ],
          "name": "stdout"
        }
      ]
    },
    {
      "cell_type": "code",
      "metadata": {
        "colab": {
          "base_uri": "https://localhost:8080/"
        },
        "id": "rxWsOIfv6npD",
        "outputId": "cb15dbe6-61c3-461a-ebdb-c400ef00da0e"
      },
      "source": [
        "print(df.describe()) # it describes only numeric fields"
      ],
      "execution_count": 11,
      "outputs": [
        {
          "output_type": "stream",
          "text": [
            "            temp        rain\n",
            "count  10.000000   10.000000\n",
            "mean   24.462646  108.630124\n",
            "std    11.254392   46.183826\n",
            "min     5.187654   31.412880\n",
            "25%    19.230618   77.238920\n",
            "50%    26.330078  118.393832\n",
            "75%    32.753871  144.284056\n",
            "max    37.080016  165.524725\n"
          ],
          "name": "stdout"
        }
      ]
    },
    {
      "cell_type": "code",
      "metadata": {
        "colab": {
          "base_uri": "https://localhost:8080/"
        },
        "id": "wkgFwvox69aX",
        "outputId": "750e20f5-da26-4936-8705-3fb07b793c79"
      },
      "source": [
        "print(df.describe(include=['object']))"
      ],
      "execution_count": 12,
      "outputs": [
        {
          "output_type": "stream",
          "text": [
            "       location\n",
            "count        10\n",
            "unique        2\n",
            "top           B\n",
            "freq          5\n"
          ],
          "name": "stdout"
        }
      ]
    }
  ]
}