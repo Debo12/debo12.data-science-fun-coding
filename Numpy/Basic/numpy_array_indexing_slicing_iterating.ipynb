{
  "nbformat": 4,
  "nbformat_minor": 0,
  "metadata": {
    "colab": {
      "name": "numpy-array-indexing-slicing-iterating.ipynb",
      "provenance": [],
      "authorship_tag": "ABX9TyNgvLw3YqaRs6SIOyw3LP63",
      "include_colab_link": true
    },
    "kernelspec": {
      "name": "python3",
      "display_name": "Python 3"
    },
    "language_info": {
      "name": "python"
    }
  },
  "cells": [
    {
      "cell_type": "markdown",
      "metadata": {
        "id": "view-in-github",
        "colab_type": "text"
      },
      "source": [
        "<a href=\"https://colab.research.google.com/github/Debo12/debo12.numpy.basic/blob/feature%2Flearning/numpy_array_indexing_slicing_iterating.ipynb\" target=\"_parent\"><img src=\"https://colab.research.google.com/assets/colab-badge.svg\" alt=\"Open In Colab\"/></a>"
      ]
    },
    {
      "cell_type": "markdown",
      "metadata": {
        "id": "nbueu93Yxo_E"
      },
      "source": [
        "# 1-D Array"
      ]
    },
    {
      "cell_type": "code",
      "metadata": {
        "id": "kiP-nnCCxq8i"
      },
      "source": [
        "import numpy as np"
      ],
      "execution_count": 2,
      "outputs": []
    },
    {
      "cell_type": "code",
      "metadata": {
        "id": "tA_ZNCYexuyY"
      },
      "source": [
        "x = np.arange(5, 40, step=5)"
      ],
      "execution_count": 3,
      "outputs": []
    },
    {
      "cell_type": "code",
      "metadata": {
        "colab": {
          "base_uri": "https://localhost:8080/"
        },
        "id": "mz4793JUyMbQ",
        "outputId": "1c3565e6-c94e-4c49-92f5-d508a7c109ce"
      },
      "source": [
        "print(x)"
      ],
      "execution_count": 4,
      "outputs": [
        {
          "output_type": "stream",
          "text": [
            "[ 5 10 15 20 25 30 35]\n"
          ],
          "name": "stdout"
        }
      ]
    },
    {
      "cell_type": "code",
      "metadata": {
        "colab": {
          "base_uri": "https://localhost:8080/"
        },
        "id": "pYmXX-qiyNqW",
        "outputId": "14ed380a-ec23-4296-c199-501d9d4a301e"
      },
      "source": [
        "print(x[1])"
      ],
      "execution_count": 5,
      "outputs": [
        {
          "output_type": "stream",
          "text": [
            "10\n"
          ],
          "name": "stdout"
        }
      ]
    },
    {
      "cell_type": "code",
      "metadata": {
        "colab": {
          "base_uri": "https://localhost:8080/"
        },
        "id": "sAS2IMchyRfP",
        "outputId": "2b601cb5-6dc7-46b6-fbeb-d5136a984b0a"
      },
      "source": [
        "print(x[1:5])"
      ],
      "execution_count": 6,
      "outputs": [
        {
          "output_type": "stream",
          "text": [
            "[10 15 20 25]\n"
          ],
          "name": "stdout"
        }
      ]
    },
    {
      "cell_type": "code",
      "metadata": {
        "colab": {
          "base_uri": "https://localhost:8080/"
        },
        "id": "jgWpnQ0AyUvS",
        "outputId": "3c414673-5103-4de0-9499-4de800d8c70c"
      },
      "source": [
        "print(x[0:6:2])"
      ],
      "execution_count": 7,
      "outputs": [
        {
          "output_type": "stream",
          "text": [
            "[ 5 15 25]\n"
          ],
          "name": "stdout"
        }
      ]
    },
    {
      "cell_type": "markdown",
      "metadata": {
        "id": "SAhNFOsG1-T2"
      },
      "source": [
        "# 2-D Array"
      ]
    },
    {
      "cell_type": "code",
      "metadata": {
        "id": "jUyyPJkc2JNK"
      },
      "source": [
        "x = np.arange(90).reshape(9, 10)"
      ],
      "execution_count": 9,
      "outputs": []
    },
    {
      "cell_type": "code",
      "metadata": {
        "colab": {
          "base_uri": "https://localhost:8080/"
        },
        "id": "k57x-KS-2ZNn",
        "outputId": "597d63a1-d6a9-4415-890f-68ab137e9dd9"
      },
      "source": [
        "print(x)"
      ],
      "execution_count": 10,
      "outputs": [
        {
          "output_type": "stream",
          "text": [
            "[[ 0  1  2  3  4  5  6  7  8  9]\n",
            " [10 11 12 13 14 15 16 17 18 19]\n",
            " [20 21 22 23 24 25 26 27 28 29]\n",
            " [30 31 32 33 34 35 36 37 38 39]\n",
            " [40 41 42 43 44 45 46 47 48 49]\n",
            " [50 51 52 53 54 55 56 57 58 59]\n",
            " [60 61 62 63 64 65 66 67 68 69]\n",
            " [70 71 72 73 74 75 76 77 78 79]\n",
            " [80 81 82 83 84 85 86 87 88 89]]\n"
          ],
          "name": "stdout"
        }
      ]
    },
    {
      "cell_type": "code",
      "metadata": {
        "colab": {
          "base_uri": "https://localhost:8080/"
        },
        "id": "ssLrKrfv2adX",
        "outputId": "4242619f-c198-4ec1-d462-f76118a0a706"
      },
      "source": [
        "print(x[1, 3])"
      ],
      "execution_count": 11,
      "outputs": [
        {
          "output_type": "stream",
          "text": [
            "13\n"
          ],
          "name": "stdout"
        }
      ]
    },
    {
      "cell_type": "code",
      "metadata": {
        "colab": {
          "base_uri": "https://localhost:8080/"
        },
        "id": "5jGKmqE62hIo",
        "outputId": "1da34173-5864-44ab-fabe-c5b2d3c86a8b"
      },
      "source": [
        "print(x[0:5, 0:4])"
      ],
      "execution_count": 14,
      "outputs": [
        {
          "output_type": "stream",
          "text": [
            "[[ 0  1  2  3]\n",
            " [10 11 12 13]\n",
            " [20 21 22 23]\n",
            " [30 31 32 33]\n",
            " [40 41 42 43]]\n"
          ],
          "name": "stdout"
        }
      ]
    },
    {
      "cell_type": "code",
      "metadata": {
        "colab": {
          "base_uri": "https://localhost:8080/"
        },
        "id": "MoglBur427gz",
        "outputId": "295004b1-737a-488f-e0fc-6ee14482fb22"
      },
      "source": [
        "print(x[:, 1])"
      ],
      "execution_count": 15,
      "outputs": [
        {
          "output_type": "stream",
          "text": [
            "[ 1 11 21 31 41 51 61 71 81]\n"
          ],
          "name": "stdout"
        }
      ]
    }
  ]
}