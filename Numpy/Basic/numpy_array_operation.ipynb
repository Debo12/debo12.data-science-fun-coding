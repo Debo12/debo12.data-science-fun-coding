{
  "nbformat": 4,
  "nbformat_minor": 0,
  "metadata": {
    "colab": {
      "name": "numpy-array-operation.ipynb",
      "provenance": [],
      "collapsed_sections": [
        "yBEoFAHOaIvx"
      ],
      "authorship_tag": "ABX9TyOqcAqMzuklujsT+vQPb+gT",
      "include_colab_link": true
    },
    "kernelspec": {
      "name": "python3",
      "display_name": "Python 3"
    },
    "language_info": {
      "name": "python"
    }
  },
  "cells": [
    {
      "cell_type": "markdown",
      "metadata": {
        "id": "view-in-github",
        "colab_type": "text"
      },
      "source": [
        "<a href=\"https://colab.research.google.com/github/Debo12/debo12.numpy.basic/blob/feature%2Flearning/numpy_array_operation.ipynb\" target=\"_parent\"><img src=\"https://colab.research.google.com/assets/colab-badge.svg\" alt=\"Open In Colab\"/></a>"
      ]
    },
    {
      "cell_type": "code",
      "metadata": {
        "id": "pZwcNRonZDSJ"
      },
      "source": [
        "import numpy as np"
      ],
      "execution_count": 1,
      "outputs": []
    },
    {
      "cell_type": "code",
      "metadata": {
        "colab": {
          "base_uri": "https://localhost:8080/"
        },
        "id": "okaPhcGYZR_S",
        "outputId": "f704a461-d9b0-4649-f077-ffe3ffcfdccb"
      },
      "source": [
        "x = np.arange(6).reshape(2, 3)\n",
        "print(x)"
      ],
      "execution_count": 2,
      "outputs": [
        {
          "output_type": "stream",
          "text": [
            "[[0 1 2]\n",
            " [3 4 5]]\n"
          ],
          "name": "stdout"
        }
      ]
    },
    {
      "cell_type": "code",
      "metadata": {
        "colab": {
          "base_uri": "https://localhost:8080/"
        },
        "id": "r_msWDdmZkKk",
        "outputId": "754f9664-517f-466b-9037-1f0208c08262"
      },
      "source": [
        "print(x+10, end='\\n\\n')\n",
        "print(x*3, end='\\n\\n')\n",
        "print(x%2)"
      ],
      "execution_count": 3,
      "outputs": [
        {
          "output_type": "stream",
          "text": [
            "[[10 11 12]\n",
            " [13 14 15]]\n",
            "\n",
            "[[ 0  3  6]\n",
            " [ 9 12 15]]\n",
            "\n",
            "[[0 1 0]\n",
            " [1 0 1]]\n"
          ],
          "name": "stdout"
        }
      ]
    },
    {
      "cell_type": "markdown",
      "metadata": {
        "id": "yBEoFAHOaIvx"
      },
      "source": [
        "# Addition between two arrays"
      ]
    },
    {
      "cell_type": "code",
      "metadata": {
        "id": "mS_0OTrHaNgB"
      },
      "source": [
        "x = np.array([[1, 2], [-3, -4]])\n",
        "y = np.array([[1, 2], [-3, -4]])"
      ],
      "execution_count": 4,
      "outputs": []
    },
    {
      "cell_type": "code",
      "metadata": {
        "colab": {
          "base_uri": "https://localhost:8080/"
        },
        "id": "poh6GOHpaY2M",
        "outputId": "0d7421ed-610f-43a6-88f2-936ceb0e8d14"
      },
      "source": [
        "print(x+y, end='\\n\\n')"
      ],
      "execution_count": 5,
      "outputs": [
        {
          "output_type": "stream",
          "text": [
            "[[ 2  4]\n",
            " [-6 -8]]\n",
            "\n"
          ],
          "name": "stdout"
        }
      ]
    },
    {
      "cell_type": "code",
      "metadata": {
        "colab": {
          "base_uri": "https://localhost:8080/"
        },
        "id": "IfFRKrUkadwX",
        "outputId": "11be1948-1db0-4044-eb3c-c28ec3087fef"
      },
      "source": [
        "print(x*y)"
      ],
      "execution_count": 6,
      "outputs": [
        {
          "output_type": "stream",
          "text": [
            "[[ 1  4]\n",
            " [ 9 16]]\n"
          ],
          "name": "stdout"
        }
      ]
    },
    {
      "cell_type": "code",
      "metadata": {
        "colab": {
          "base_uri": "https://localhost:8080/"
        },
        "id": "y5scdQ_Wai9u",
        "outputId": "33734883-c3bc-4c7c-b375-26c1a8890526"
      },
      "source": [
        "x = np.array([[1, 2, 3], [-3, -4, -5]])\n",
        "y = np.array([[10, 10, 10]])\n",
        "print(x*y)"
      ],
      "execution_count": 10,
      "outputs": [
        {
          "output_type": "stream",
          "text": [
            "[[ 10  20  30]\n",
            " [-30 -40 -50]]\n"
          ],
          "name": "stdout"
        }
      ]
    },
    {
      "cell_type": "code",
      "metadata": {
        "id": "W3MCp4bAcFL_"
      },
      "source": [
        ""
      ],
      "execution_count": null,
      "outputs": []
    },
    {
      "cell_type": "markdown",
      "metadata": {
        "id": "fnurdLTneTGD"
      },
      "source": [
        "# Numpy Universal Functions"
      ]
    },
    {
      "cell_type": "code",
      "metadata": {
        "colab": {
          "base_uri": "https://localhost:8080/"
        },
        "id": "KPkY0OIheWq3",
        "outputId": "7fce6692-f20b-4d2d-f3f6-20d5ca5daa03"
      },
      "source": [
        "x = np.array([[1, 2], [3, 4]])\n",
        "print(np.square(x), end='\\n\\n')\n",
        "print(np.sin(x))"
      ],
      "execution_count": 11,
      "outputs": [
        {
          "output_type": "stream",
          "text": [
            "[[ 1  4]\n",
            " [ 9 16]]\n",
            "\n",
            "[[ 0.84147098  0.90929743]\n",
            " [ 0.14112001 -0.7568025 ]]\n"
          ],
          "name": "stdout"
        }
      ]
    },
    {
      "cell_type": "code",
      "metadata": {
        "colab": {
          "base_uri": "https://localhost:8080/"
        },
        "id": "72r4EoBFeqXR",
        "outputId": "676f8b3f-5b18-44c0-bf7e-1a95abcdbc45"
      },
      "source": [
        "x = np.array([[1, 2], [3, 4]])\n",
        "print(x.sum(), end='\\n\\n')\n",
        "print(x.sum(axis=0), end='\\n\\n')\n",
        "print(x.sum(axis=1), end='\\n\\n')"
      ],
      "execution_count": 14,
      "outputs": [
        {
          "output_type": "stream",
          "text": [
            "10\n",
            "\n",
            "[4 6]\n",
            "\n",
            "[3 7]\n",
            "\n"
          ],
          "name": "stdout"
        }
      ]
    },
    {
      "cell_type": "code",
      "metadata": {
        "colab": {
          "base_uri": "https://localhost:8080/"
        },
        "id": "0L4xXmV2fHnY",
        "outputId": "7ab39559-52b5-4977-c1b6-c5fc7a955ac6"
      },
      "source": [
        "import numpy as np\n",
        "\n",
        "x = np.arange(4).reshape(2,2)\n",
        "print(x.tolist())"
      ],
      "execution_count": 15,
      "outputs": [
        {
          "output_type": "stream",
          "text": [
            "[[0, 1], [2, 3]]\n"
          ],
          "name": "stdout"
        }
      ]
    }
  ]
}