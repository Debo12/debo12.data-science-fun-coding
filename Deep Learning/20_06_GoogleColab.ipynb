{
  "nbformat": 4,
  "nbformat_minor": 0,
  "metadata": {
    "colab": {
      "name": "20_06_GoogleColab.ipynb",
      "provenance": [],
      "toc_visible": true,
      "authorship_tag": "ABX9TyN+BE+dU8Qjfau+vgdcB7nd",
      "include_colab_link": true
    },
    "kernelspec": {
      "name": "python3",
      "display_name": "Python 3"
    }
  },
  "cells": [
    {
      "cell_type": "markdown",
      "metadata": {
        "id": "view-in-github",
        "colab_type": "text"
      },
      "source": [
        "<a href=\"https://colab.research.google.com/github/Debo12/Google_Colab_Project/blob/master/20_06_GoogleColab.ipynb\" target=\"_parent\"><img src=\"https://colab.research.google.com/assets/colab-badge.svg\" alt=\"Open In Colab\"/></a>"
      ]
    },
    {
      "cell_type": "markdown",
      "metadata": {
        "id": "hEaXL_Gw-zmG",
        "colab_type": "text"
      },
      "source": [
        "#Section 1\n",
        "Simple Linux Commands"
      ]
    },
    {
      "cell_type": "code",
      "metadata": {
        "id": "v6EI7p2K-5Da",
        "colab_type": "code",
        "colab": {
          "base_uri": "https://localhost:8080/",
          "height": 34
        },
        "outputId": "1944901d-38b4-44e3-aebd-cbb7dad93491"
      },
      "source": [
        "!ls"
      ],
      "execution_count": 6,
      "outputs": [
        {
          "output_type": "stream",
          "text": [
            "sample_data\n"
          ],
          "name": "stdout"
        }
      ]
    },
    {
      "cell_type": "code",
      "metadata": {
        "id": "jxMDBRPA2Sep",
        "colab_type": "code",
        "colab": {
          "base_uri": "https://localhost:8080/",
          "height": 34
        },
        "outputId": "6b89821c-2c9e-4d0c-9974-2d9a9047b301"
      },
      "source": [
        "!ls"
      ],
      "execution_count": 1,
      "outputs": [
        {
          "output_type": "stream",
          "text": [
            "sample_data\n"
          ],
          "name": "stdout"
        }
      ]
    },
    {
      "cell_type": "code",
      "metadata": {
        "id": "jmzooAnB8GRZ",
        "colab_type": "code",
        "colab": {}
      },
      "source": [
        "!cat /proc/cpuinfo # Get processor info"
      ],
      "execution_count": null,
      "outputs": []
    },
    {
      "cell_type": "code",
      "metadata": {
        "id": "9VX18JU-8cZd",
        "colab_type": "code",
        "colab": {}
      },
      "source": [
        "!cat /proc/meminfo # Get memory info"
      ],
      "execution_count": 5,
      "outputs": []
    },
    {
      "cell_type": "markdown",
      "metadata": {
        "id": "_vbqKEcD9GgI",
        "colab_type": "text"
      },
      "source": [
        "**Step:** Upload CSV files. The storage is not persistent and that's why file will get deleted when runtime gets recycled."
      ]
    },
    {
      "cell_type": "markdown",
      "metadata": {
        "id": "EayYimbC9gSY",
        "colab_type": "text"
      },
      "source": [
        "This is a text cell, where I can write in **bold**\n",
        "I can also write in $\\LaTeX$\n"
      ]
    }
  ]
}