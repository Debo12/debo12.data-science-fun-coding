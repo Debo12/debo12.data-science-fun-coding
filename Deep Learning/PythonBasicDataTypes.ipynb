{
  "nbformat": 4,
  "nbformat_minor": 0,
  "metadata": {
    "colab": {
      "name": "PythonBasicDataTypes.ipynb",
      "provenance": [],
      "authorship_tag": "ABX9TyMEN3mpoaxtZmA/HcHhoncC",
      "include_colab_link": true
    },
    "kernelspec": {
      "name": "python3",
      "display_name": "Python 3"
    }
  },
  "cells": [
    {
      "cell_type": "markdown",
      "metadata": {
        "id": "view-in-github",
        "colab_type": "text"
      },
      "source": [
        "<a href=\"https://colab.research.google.com/github/Debo12/Google_Colab_Project/blob/master/PythonBasicDataTypes.ipynb\" target=\"_parent\"><img src=\"https://colab.research.google.com/assets/colab-badge.svg\" alt=\"Open In Colab\"/></a>"
      ]
    },
    {
      "cell_type": "markdown",
      "metadata": {
        "id": "fRIqybNASaoI",
        "colab_type": "text"
      },
      "source": [
        "#**Simple Datatypes and Operators**"
      ]
    },
    {
      "cell_type": "code",
      "metadata": {
        "id": "ZXde3GPpAXAr",
        "colab_type": "code",
        "colab": {}
      },
      "source": [
        "name = 'Iphone 5s'"
      ],
      "execution_count": null,
      "outputs": []
    },
    {
      "cell_type": "code",
      "metadata": {
        "id": "T2OIpEsiDr3V",
        "colab_type": "code",
        "colab": {
          "base_uri": "https://localhost:8080/",
          "height": 34
        },
        "outputId": "8376aa17-eb4c-4212-a769-4fa1b9ad2f3d"
      },
      "source": [
        "type(name)"
      ],
      "execution_count": null,
      "outputs": [
        {
          "output_type": "execute_result",
          "data": {
            "text/plain": [
              "str"
            ]
          },
          "metadata": {
            "tags": []
          },
          "execution_count": 2
        }
      ]
    },
    {
      "cell_type": "code",
      "metadata": {
        "id": "UIDGYgpDDw7A",
        "colab_type": "code",
        "colab": {}
      },
      "source": [
        "screen_size = 4.3"
      ],
      "execution_count": null,
      "outputs": []
    },
    {
      "cell_type": "code",
      "metadata": {
        "id": "6drjZ9W0DzXU",
        "colab_type": "code",
        "colab": {
          "base_uri": "https://localhost:8080/",
          "height": 34
        },
        "outputId": "8a759e97-42a5-4016-c928-1203cdd76dff"
      },
      "source": [
        "type(screen_size)"
      ],
      "execution_count": null,
      "outputs": [
        {
          "output_type": "execute_result",
          "data": {
            "text/plain": [
              "float"
            ]
          },
          "metadata": {
            "tags": []
          },
          "execution_count": 5
        }
      ]
    },
    {
      "cell_type": "code",
      "metadata": {
        "id": "wdDi2C8lD7H_",
        "colab_type": "code",
        "colab": {}
      },
      "source": [
        "num_of_speakers = 1"
      ],
      "execution_count": null,
      "outputs": []
    },
    {
      "cell_type": "code",
      "metadata": {
        "id": "DtAyaNIaD95i",
        "colab_type": "code",
        "colab": {
          "base_uri": "https://localhost:8080/",
          "height": 34
        },
        "outputId": "cfaf8b2f-0dd6-45f4-8fde-8019b9148453"
      },
      "source": [
        "type(num_of_speakers)"
      ],
      "execution_count": null,
      "outputs": [
        {
          "output_type": "execute_result",
          "data": {
            "text/plain": [
              "int"
            ]
          },
          "metadata": {
            "tags": []
          },
          "execution_count": 7
        }
      ]
    },
    {
      "cell_type": "code",
      "metadata": {
        "id": "RkAE85miEBek",
        "colab_type": "code",
        "colab": {
          "base_uri": "https://localhost:8080/",
          "height": 34
        },
        "outputId": "2d89b4b2-324c-4ceb-d31a-702762454662"
      },
      "source": [
        "print('I just bought an '+name)"
      ],
      "execution_count": null,
      "outputs": [
        {
          "output_type": "stream",
          "text": [
            "I just bought an Iphone 5s\n"
          ],
          "name": "stdout"
        }
      ]
    },
    {
      "cell_type": "code",
      "metadata": {
        "id": "A2KBG68QFqBj",
        "colab_type": "code",
        "colab": {
          "base_uri": "https://localhost:8080/",
          "height": 34
        },
        "outputId": "f5f7d0fc-c087-4e1d-c98a-a81a6cfff36b"
      },
      "source": [
        "a = 3\n",
        "b = 2\n",
        "print(a*b, a/b, a+b, a-b, a**b, a//b)"
      ],
      "execution_count": null,
      "outputs": [
        {
          "output_type": "stream",
          "text": [
            "6 1.5 5 1 9 1\n"
          ],
          "name": "stdout"
        }
      ]
    },
    {
      "cell_type": "code",
      "metadata": {
        "id": "aecCktolFy3H",
        "colab_type": "code",
        "colab": {
          "base_uri": "https://localhost:8080/",
          "height": 34
        },
        "outputId": "ae00ebac-f80d-4002-c4d2-168daf7fa99c"
      },
      "source": [
        "is_android = False\n",
        "type(is_android)"
      ],
      "execution_count": null,
      "outputs": [
        {
          "output_type": "execute_result",
          "data": {
            "text/plain": [
              "bool"
            ]
          },
          "metadata": {
            "tags": []
          },
          "execution_count": 11
        }
      ]
    },
    {
      "cell_type": "code",
      "metadata": {
        "id": "225MBqqKGIQm",
        "colab_type": "code",
        "colab": {
          "base_uri": "https://localhost:8080/",
          "height": 34
        },
        "outputId": "20c7ba5f-ee81-40df-873d-b6f9af9fc877"
      },
      "source": [
        "print(is_android == True)"
      ],
      "execution_count": null,
      "outputs": [
        {
          "output_type": "stream",
          "text": [
            "False\n"
          ],
          "name": "stdout"
        }
      ]
    },
    {
      "cell_type": "code",
      "metadata": {
        "id": "XkWMWpSNGL4K",
        "colab_type": "code",
        "colab": {
          "base_uri": "https://localhost:8080/",
          "height": 34
        },
        "outputId": "9a66709f-dcf1-4843-d56d-af6197187fb0"
      },
      "source": [
        "print(is_android == False and num_of_speakers>1)"
      ],
      "execution_count": null,
      "outputs": [
        {
          "output_type": "stream",
          "text": [
            "False\n"
          ],
          "name": "stdout"
        }
      ]
    },
    {
      "cell_type": "markdown",
      "metadata": {
        "id": "X7DmztqHSsm6",
        "colab_type": "text"
      },
      "source": [
        "#**Code Blocks - If, For, While**"
      ]
    },
    {
      "cell_type": "code",
      "metadata": {
        "id": "Fj9GtvSiGS7L",
        "colab_type": "code",
        "colab": {
          "base_uri": "https://localhost:8080/",
          "height": 67
        },
        "outputId": "b10eb679-74a4-4933-e9d2-b6facdda893c"
      },
      "source": [
        "# if block\n",
        "if is_android == False:\n",
        "  print(name+' supports android')\n",
        "  print('Continuing to print inside if block')\n",
        "print('printing outside of if block')"
      ],
      "execution_count": null,
      "outputs": [
        {
          "output_type": "stream",
          "text": [
            "Iphone 5s supports android\n",
            "Continuing to print inside if block\n",
            "printing outside of if block\n"
          ],
          "name": "stdout"
        }
      ]
    },
    {
      "cell_type": "code",
      "metadata": {
        "id": "x29vfC3oL9aL",
        "colab_type": "code",
        "colab": {
          "base_uri": "https://localhost:8080/",
          "height": 101
        },
        "outputId": "94093b74-4bec-4a7f-9b03-cbee06330302"
      },
      "source": [
        "for i in range(5):\n",
        "  print(i, i**2)"
      ],
      "execution_count": null,
      "outputs": [
        {
          "output_type": "stream",
          "text": [
            "0 0\n",
            "1 1\n",
            "2 4\n",
            "3 9\n",
            "4 16\n"
          ],
          "name": "stdout"
        }
      ]
    },
    {
      "cell_type": "code",
      "metadata": {
        "id": "MY9EDuGtMPmA",
        "colab_type": "code",
        "colab": {}
      },
      "source": [
        "range?"
      ],
      "execution_count": null,
      "outputs": []
    },
    {
      "cell_type": "code",
      "metadata": {
        "id": "Ul7KahcuMRos",
        "colab_type": "code",
        "colab": {
          "base_uri": "https://localhost:8080/",
          "height": 101
        },
        "outputId": "257452cc-ddcf-4083-8442-25174b9dd2a4"
      },
      "source": [
        "i=0\n",
        "while(i<5):\n",
        "  print(i, i**2)\n",
        "  i += 1"
      ],
      "execution_count": null,
      "outputs": [
        {
          "output_type": "stream",
          "text": [
            "0 0\n",
            "1 1\n",
            "2 4\n",
            "3 9\n",
            "4 16\n"
          ],
          "name": "stdout"
        }
      ]
    },
    {
      "cell_type": "markdown",
      "metadata": {
        "id": "1duNgObCS4rQ",
        "colab_type": "text"
      },
      "source": [
        "#**Functions**"
      ]
    },
    {
      "cell_type": "code",
      "metadata": {
        "id": "VYE2VSD-M6A2",
        "colab_type": "code",
        "colab": {}
      },
      "source": [
        "def print_squares(stop_val):\n",
        "  for i in range(stop_val):\n",
        "    print(i, i**2)"
      ],
      "execution_count": null,
      "outputs": []
    },
    {
      "cell_type": "code",
      "metadata": {
        "id": "0x5rtSz_NTKr",
        "colab_type": "code",
        "colab": {
          "base_uri": "https://localhost:8080/",
          "height": 67
        },
        "outputId": "663ec6af-74ec-4d65-bc0c-0ac63754ff72"
      },
      "source": [
        "print_squares(3)"
      ],
      "execution_count": null,
      "outputs": [
        {
          "output_type": "stream",
          "text": [
            "0 0\n",
            "1 1\n",
            "2 4\n"
          ],
          "name": "stdout"
        }
      ]
    },
    {
      "cell_type": "code",
      "metadata": {
        "id": "AwRBbJb2NVIc",
        "colab_type": "code",
        "colab": {}
      },
      "source": [
        "def sum_of_squares(stop_val):\n",
        "  sum_ = 0\n",
        "  for i in range(stop_val):\n",
        "    sum_ += i**2\n",
        "  return sum_"
      ],
      "execution_count": null,
      "outputs": []
    },
    {
      "cell_type": "code",
      "metadata": {
        "id": "qo0I5wJyN6Jh",
        "colab_type": "code",
        "colab": {}
      },
      "source": [
        "sum_5 = sum_of_squares(5)"
      ],
      "execution_count": null,
      "outputs": []
    },
    {
      "cell_type": "code",
      "metadata": {
        "id": "5is0wQSROFmL",
        "colab_type": "code",
        "colab": {
          "base_uri": "https://localhost:8080/",
          "height": 34
        },
        "outputId": "dd8eafc3-e467-49eb-f5bc-3b46405aada2"
      },
      "source": [
        "print(sum_5)"
      ],
      "execution_count": null,
      "outputs": [
        {
          "output_type": "stream",
          "text": [
            "30\n"
          ],
          "name": "stdout"
        }
      ]
    },
    {
      "cell_type": "code",
      "metadata": {
        "id": "-9l42qEOOIhj",
        "colab_type": "code",
        "colab": {}
      },
      "source": [
        "def print_squares_with_start_val(stop_val, start_val=0):\n",
        "  \"\"\"Prints the square value starting from start_val (inclusive) and ending at stop_val (exclusive)\"\"\" # used for documentation, now execute 'print_squares_with_start_val?' \n",
        "  for i in range(start_val, stop_val):\n",
        "    print(i, i**2)"
      ],
      "execution_count": null,
      "outputs": []
    },
    {
      "cell_type": "code",
      "metadata": {
        "id": "bOrtkDc2PF_L",
        "colab_type": "code",
        "colab": {
          "base_uri": "https://localhost:8080/",
          "height": 67
        },
        "outputId": "86ba408b-0b26-43ee-96f9-1832860a19bb"
      },
      "source": [
        "print_squares_with_start_val(5, 2)"
      ],
      "execution_count": null,
      "outputs": [
        {
          "output_type": "stream",
          "text": [
            "2 4\n",
            "3 9\n",
            "4 16\n"
          ],
          "name": "stdout"
        }
      ]
    },
    {
      "cell_type": "code",
      "metadata": {
        "id": "PR_24h_LPKAb",
        "colab_type": "code",
        "colab": {}
      },
      "source": [
        "print_squares_with_start_val?"
      ],
      "execution_count": null,
      "outputs": []
    },
    {
      "cell_type": "code",
      "metadata": {
        "id": "VPJmrSPIPkY2",
        "colab_type": "code",
        "colab": {}
      },
      "source": [
        ""
      ],
      "execution_count": null,
      "outputs": []
    }
  ]
}