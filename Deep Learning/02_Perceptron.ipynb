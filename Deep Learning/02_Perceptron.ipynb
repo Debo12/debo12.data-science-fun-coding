{
  "nbformat": 4,
  "nbformat_minor": 0,
  "metadata": {
    "colab": {
      "name": "02_Perceptron.ipynb",
      "provenance": [],
      "authorship_tag": "ABX9TyOH7NczdyzYwMmQtjdVXOoy",
      "include_colab_link": true
    },
    "kernelspec": {
      "name": "python3",
      "display_name": "Python 3"
    }
  },
  "cells": [
    {
      "cell_type": "markdown",
      "metadata": {
        "id": "view-in-github",
        "colab_type": "text"
      },
      "source": [
        "<a href=\"https://colab.research.google.com/github/Debo12/Google_Colab_Project/blob/master/02_Perceptron.ipynb\" target=\"_parent\"><img src=\"https://colab.research.google.com/assets/colab-badge.svg\" alt=\"Open In Colab\"/></a>"
      ]
    },
    {
      "cell_type": "code",
      "metadata": {
        "id": "MjopGNgoVTxz",
        "colab_type": "code",
        "colab": {}
      },
      "source": [
        "import sklearn.datasets as sk\n",
        "import numpy as np\n",
        "import pandas as pd\n",
        "from sklearn.model_selection import train_test_split\n",
        "from sklearn.metrics import accuracy_score\n",
        "import matplotlib.pyplot as plt"
      ],
      "execution_count": 34,
      "outputs": []
    },
    {
      "cell_type": "code",
      "metadata": {
        "id": "eEPI7vgTVnbF",
        "colab_type": "code",
        "colab": {}
      },
      "source": [
        "breast_cancer = sk.load_breast_cancer()\n",
        "X = breast_cancer.data\n",
        "Y = breast_cancer.target"
      ],
      "execution_count": 35,
      "outputs": []
    },
    {
      "cell_type": "code",
      "metadata": {
        "id": "Yf2Q3dmSWBQa",
        "colab_type": "code",
        "colab": {}
      },
      "source": [
        "data = pd.DataFrame(data=breast_cancer.data, columns=breast_cancer.feature_names)\n",
        "data['output'] = breast_cancer.target\n",
        "X = data.drop(columns='output', axis=1)\n",
        "Y = data['output']\n",
        "X_train, X_test, Y_train, Y_test = train_test_split(X, Y, test_size=0.1, stratify=Y, random_state=1)"
      ],
      "execution_count": 36,
      "outputs": []
    },
    {
      "cell_type": "markdown",
      "metadata": {
        "id": "u2KtI5hFgN5g",
        "colab_type": "text"
      },
      "source": [
        "#Perceptron Class"
      ]
    },
    {
      "cell_type": "code",
      "metadata": {
        "id": "tuT-mj-7t5g2",
        "colab_type": "code",
        "colab": {}
      },
      "source": [
        "X_train = X_train.values\n",
        "X_test = X_test.values"
      ],
      "execution_count": 37,
      "outputs": []
    },
    {
      "cell_type": "markdown",
      "metadata": {
        "id": "tQ2B2wT5g8Wx",
        "colab_type": "text"
      },
      "source": [
        "$y =1, \\mbox{if} \\sum_i w_i x_i >= b$\n",
        "\n",
        "$y =0, \\mbox{otherwise}$"
      ]
    },
    {
      "cell_type": "code",
      "metadata": {
        "id": "CXbP2-h_hEsD",
        "colab_type": "code",
        "colab": {}
      },
      "source": [
        "class Perceptron:\n",
        "  def __init__(self):\n",
        "    self.w = None\n",
        "    self.b = None\n",
        "\n",
        "  def model(self, x):\n",
        "    return 1 if np.dot(self.w, x) >= self.b else 0\n",
        "\n",
        "  def predict(self, X):\n",
        "    Y = []\n",
        "    for x in X:\n",
        "      result = self.model(x)\n",
        "      Y.append(result)\n",
        "    return np.array(Y)\n",
        "\n",
        "  def fit(self, X, Y):\n",
        "    self.w = np.ones(X.shape[1])\n",
        "    self.b = 0\n",
        "\n",
        "    accuracy = {}\n",
        "    \n",
        "    for (x, y) in zip(X, Y):\n",
        "      y_pred = self.model(x)\n",
        "      if y==1 and y_pred==0:\n",
        "        self.w += x\n",
        "        self.b += 1\n",
        "      elif y==0 and y_pred==1:\n",
        "        self.w -= x\n",
        "        self.b -= 1"
      ],
      "execution_count": 38,
      "outputs": []
    },
    {
      "cell_type": "code",
      "metadata": {
        "id": "z-q7lKeuoSrG",
        "colab_type": "code",
        "colab": {}
      },
      "source": [
        "perceptron = Perceptron()"
      ],
      "execution_count": 39,
      "outputs": []
    },
    {
      "cell_type": "code",
      "metadata": {
        "id": "bYsXBV1etwag",
        "colab_type": "code",
        "colab": {}
      },
      "source": [
        "perceptron.fit(X_train, Y_train)"
      ],
      "execution_count": 40,
      "outputs": []
    },
    {
      "cell_type": "code",
      "metadata": {
        "id": "y7JlYaVOvbr7",
        "colab_type": "code",
        "colab": {
          "base_uri": "https://localhost:8080/",
          "height": 268
        },
        "outputId": "f057caa1-b76f-4872-c0cf-640d70550815"
      },
      "source": [
        "plt.plot(perceptron.w)\n",
        "plt.show()"
      ],
      "execution_count": 41,
      "outputs": [
        {
          "output_type": "display_data",
          "data": {
            "image/png": "[encoded data removed]",
            "text/plain": [
              "<Figure size 432x288 with 1 Axes>"
            ]
          },
          "metadata": {
            "tags": [],
            "needs_background": "light"
          }
        }
      ]
    },
    {
      "cell_type": "code",
      "metadata": {
        "id": "xllCKKiUvikp",
        "colab_type": "code",
        "colab": {
          "base_uri": "https://localhost:8080/",
          "height": 34
        },
        "outputId": "49bdc32f-f5f9-4ba1-9a29-61d0bba97b3d"
      },
      "source": [
        "# accuracy score on train data\n",
        "Y_pred_train = perceptron.predict(X_train)\n",
        "print('Accuracy score: ', accuracy_score(Y_pred_train, Y_train))"
      ],
      "execution_count": 42,
      "outputs": [
        {
          "output_type": "stream",
          "text": [
            "Accuracy score:  0.373046875\n"
          ],
          "name": "stdout"
        }
      ]
    },
    {
      "cell_type": "code",
      "metadata": {
        "id": "0qO0Al2-wE4B",
        "colab_type": "code",
        "colab": {
          "base_uri": "https://localhost:8080/",
          "height": 34
        },
        "outputId": "9989968e-5ff3-4696-dd9a-bcd3d40320f3"
      },
      "source": [
        "# accuracy score on train data\n",
        "Y_pred_test = perceptron.predict(X_test)\n",
        "print('Accuracy score: ', accuracy_score(Y_pred_test, Y_test))"
      ],
      "execution_count": 43,
      "outputs": [
        {
          "output_type": "stream",
          "text": [
            "Accuracy score:  0.3684210526315789\n"
          ],
          "name": "stdout"
        }
      ]
    },
    {
      "cell_type": "code",
      "metadata": {
        "id": "LvAVDa-3wOjQ",
        "colab_type": "code",
        "colab": {
          "base_uri": "https://localhost:8080/",
          "height": 151
        },
        "outputId": "1e99819a-b40e-4e2c-cbac-6eb120740c0c"
      },
      "source": [
        "print(perceptron.w)"
      ],
      "execution_count": 44,
      "outputs": [
        {
          "output_type": "stream",
          "text": [
            "[ 4.4787000e+02  8.3489000e+02  2.7157700e+03  2.0408000e+03\n",
            "  5.7084700e+00  2.0157400e+00 -2.3629660e+00 -7.8631100e-01\n",
            "  9.9227000e+00  4.5390700e+00  3.2492000e+00  6.7091400e+01\n",
            "  1.3170500e+01 -1.1429410e+03  1.3688870e+00  1.4125040e+00\n",
            "  1.2378939e+00  1.1849880e+00  2.0698010e+00  1.1560210e+00\n",
            "  4.4626900e+02  1.0824500e+03  2.6876200e+03 -3.7992000e+03\n",
            "  7.2313300e+00  1.2725100e+00 -3.1415070e+00 -7.8600000e-02\n",
            "  1.4028700e+01  4.9343900e+00]\n"
          ],
          "name": "stdout"
        }
      ]
    },
    {
      "cell_type": "code",
      "metadata": {
        "id": "aS5NRoTD1oNh",
        "colab_type": "code",
        "colab": {}
      },
      "source": [
        "class Perceptron:\n",
        "  def __init__(self):\n",
        "    self.w = None\n",
        "    self.b = None\n",
        "\n",
        "  def model(self, x):\n",
        "    return 1 if np.dot(self.w, x) >= self.b else 0\n",
        "\n",
        "  def predict(self, X):\n",
        "    Y = []\n",
        "    for x in X:\n",
        "      result = self.model(x)\n",
        "      Y.append(result)\n",
        "    return np.array(Y)\n",
        "\n",
        "  def fit(self, X, Y, epochs=2):\n",
        "    self.w = np.ones(X.shape[1])\n",
        "    self.b = 0\n",
        "\n",
        "    accuracy = {}\n",
        "    max_accuracy = 0\n",
        "\n",
        "    for i in range(epochs):\n",
        "      for (x, y) in zip(X, Y):\n",
        "        y_pred = self.model(x)\n",
        "        if y==1 and y_pred==0:\n",
        "          self.w += x\n",
        "          self.b += 1\n",
        "        elif y==0 and y_pred==1:\n",
        "          self.w -= x\n",
        "          self.b -= 1\n",
        "          \n",
        "      accuracy[i] = accuracy_score(self.predict(X), Y)\n",
        "      if(accuracy[i] > max_accuracy):\n",
        "        max_accuracy = accuracy[i]\n",
        "\n",
        "    print(max_accuracy)\n",
        "\n",
        "    plt.plot(list(accuracy.values()))\n",
        "    plt.show()"
      ],
      "execution_count": 45,
      "outputs": []
    },
    {
      "cell_type": "code",
      "metadata": {
        "id": "HeqNYgKC2ZLf",
        "colab_type": "code",
        "colab": {}
      },
      "source": [
        "perceptron = Perceptron()"
      ],
      "execution_count": 46,
      "outputs": []
    },
    {
      "cell_type": "code",
      "metadata": {
        "id": "RRauttlK2UA4",
        "colab_type": "code",
        "colab": {
          "base_uri": "https://localhost:8080/",
          "height": 282
        },
        "outputId": "5c7367a5-7996-468c-8e04-a0a1b3c0f849"
      },
      "source": [
        "perceptron.fit(X_train, Y_train, 50)"
      ],
      "execution_count": 47,
      "outputs": [
        {
          "output_type": "stream",
          "text": [
            "0.921875\n"
          ],
          "name": "stdout"
        },
        {
          "output_type": "display_data",
          "data": {
            "image/png": "[encoded data removed]",
            "text/plain": [
              "<Figure size 432x288 with 1 Axes>"
            ]
          },
          "metadata": {
            "tags": [],
            "needs_background": "light"
          }
        }
      ]
    },
    {
      "cell_type": "markdown",
      "metadata": {
        "id": "go5lE9Ve6_PA",
        "colab_type": "text"
      },
      "source": [
        "**Hyper Parameter:** epoch value is not related to learning model but the value is responsible for accuracy."
      ]
    },
    {
      "cell_type": "code",
      "metadata": {
        "colab_type": "code",
        "id": "IlyNHoZcaY59",
        "colab": {}
      },
      "source": [
        "# Checkpoints to store the w and b when highest accuracy in learning model\n",
        "class Perceptron:\n",
        "  def __init__(self):\n",
        "    self.w = None\n",
        "    self.b = None\n",
        "\n",
        "  def model(self, x):\n",
        "    return 1 if np.dot(self.w, x) >= self.b else 0\n",
        "\n",
        "  def predict(self, X):\n",
        "    Y = []\n",
        "    for x in X:\n",
        "      result = self.model(x)\n",
        "      Y.append(result)\n",
        "    return np.array(Y)\n",
        "\n",
        "  def fit(self, X, Y, epochs=2, lr=1):\n",
        "    self.w = np.ones(X.shape[1])\n",
        "    self.b = 0\n",
        "    checkptb = 0\n",
        "    checkptw = []\n",
        "\n",
        "    accuracy = {}\n",
        "    max_accuracy = 0\n",
        "\n",
        "    for i in range(epochs):\n",
        "      for (x, y) in zip(X, Y):\n",
        "        y_pred = self.model(x)\n",
        "        if y==1 and y_pred==0:\n",
        "          self.w += lr * x\n",
        "          self.b += lr * 1\n",
        "        elif y==0 and y_pred==1:\n",
        "          self.w -= lr * x\n",
        "          self.b -= lr * 1\n",
        "          \n",
        "      accuracy[i] = accuracy_score(self.predict(X), Y)\n",
        "      if(accuracy[i] > max_accuracy):\n",
        "        max_accuracy = accuracy[i]\n",
        "        checkptb = self.b\n",
        "        checkptw = self.w\n",
        "\n",
        "    self.b = checkptb\n",
        "    self.w = checkptw\n",
        "\n",
        "    print(max_accuracy)\n",
        "\n",
        "    plt.plot(list(accuracy.values()))\n",
        "    plt.ylim([0, 1])\n",
        "    plt.show()"
      ],
      "execution_count": 61,
      "outputs": []
    },
    {
      "cell_type": "code",
      "metadata": {
        "id": "--YoXLzPbLzH",
        "colab_type": "code",
        "colab": {}
      },
      "source": [
        "perceptron = Perceptron()"
      ],
      "execution_count": 62,
      "outputs": []
    },
    {
      "cell_type": "code",
      "metadata": {
        "id": "og1sTzGZbsit",
        "colab_type": "code",
        "colab": {
          "base_uri": "https://localhost:8080/",
          "height": 286
        },
        "outputId": "277d6343-9844-4d9b-b7ce-6b31f74eb60e"
      },
      "source": [
        "perceptron.fit(X_train, Y_train, 10000, 0.01)"
      ],
      "execution_count": 63,
      "outputs": [
        {
          "output_type": "stream",
          "text": [
            "0.947265625\n"
          ],
          "name": "stdout"
        },
        {
          "output_type": "display_data",
          "data": {
            "image/png": "[encoded data removed]",
            "text/plain": [
              "<Figure size 432x288 with 1 Axes>"
            ]
          },
          "metadata": {
            "tags": [],
            "needs_background": "light"
          }
        }
      ]
    },
    {
      "cell_type": "code",
      "metadata": {
        "id": "wtacsB3bbRK_",
        "colab_type": "code",
        "colab": {
          "base_uri": "https://localhost:8080/",
          "height": 34
        },
        "outputId": "267fffda-b9be-4312-963b-30a8d18b1e24"
      },
      "source": [
        "Y_pred_train = perceptron.predict(X_train)\n",
        "print('Accuracy: ', accuracy_score(Y_pred_train, Y_train))"
      ],
      "execution_count": 65,
      "outputs": [
        {
          "output_type": "stream",
          "text": [
            "Accuracy:  0.935546875\n"
          ],
          "name": "stdout"
        }
      ]
    },
    {
      "cell_type": "code",
      "metadata": {
        "id": "HZX8PxMUbxhZ",
        "colab_type": "code",
        "colab": {
          "base_uri": "https://localhost:8080/",
          "height": 34
        },
        "outputId": "e0bb3234-6d76-407b-f593-5953ff070f7a"
      },
      "source": [
        "#Find accuracy in the test data\n",
        "Y_pred_test = perceptron.predict(X_test)\n",
        "print('Test accuracy: ', accuracy_score(Y_pred_test, Y_test))"
      ],
      "execution_count": 66,
      "outputs": [
        {
          "output_type": "stream",
          "text": [
            "Test accuracy:  0.9122807017543859\n"
          ],
          "name": "stdout"
        }
      ]
    },
    {
      "cell_type": "code",
      "metadata": {
        "id": "pwMrlCQHqnha",
        "colab_type": "code",
        "colab": {}
      },
      "source": [
        ""
      ],
      "execution_count": null,
      "outputs": []
    }
  ]
}