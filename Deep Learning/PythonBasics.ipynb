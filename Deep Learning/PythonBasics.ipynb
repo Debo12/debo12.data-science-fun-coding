{
  "nbformat": 4,
  "nbformat_minor": 0,
  "metadata": {
    "colab": {
      "name": "PythonBasics.ipynb",
      "provenance": [],
      "toc_visible": true,
      "authorship_tag": "ABX9TyMVPgFH3tlNNIGyamt7ARPS",
      "include_colab_link": true
    },
    "kernelspec": {
      "name": "python3",
      "display_name": "Python 3"
    }
  },
  "cells": [
    {
      "cell_type": "markdown",
      "metadata": {
        "id": "view-in-github",
        "colab_type": "text"
      },
      "source": [
        "<a href=\"https://colab.research.google.com/github/Debo12/Google_Colab_Project/blob/master/PythonBasics.ipynb\" target=\"_parent\"><img src=\"https://colab.research.google.com/assets/colab-badge.svg\" alt=\"Open In Colab\"/></a>"
      ]
    },
    {
      "cell_type": "markdown",
      "metadata": {
        "id": "uhVqrn67TZZ7",
        "colab_type": "text"
      },
      "source": [
        "#**List**"
      ]
    },
    {
      "cell_type": "code",
      "metadata": {
        "id": "zVvtVK_1R_b2",
        "colab_type": "code",
        "colab": {}
      },
      "source": [
        "name = 'iPhone 5s'\n",
        "is_android = False\n",
        "screen_size = 4.5"
      ],
      "execution_count": 70,
      "outputs": []
    },
    {
      "cell_type": "code",
      "metadata": {
        "id": "p674tvPZT2Cd",
        "colab_type": "code",
        "colab": {}
      },
      "source": [
        "my_phone = [name, is_android, screen_size]"
      ],
      "execution_count": 71,
      "outputs": []
    },
    {
      "cell_type": "code",
      "metadata": {
        "id": "WcLi2AMcAFUm",
        "colab_type": "code",
        "colab": {
          "base_uri": "https://localhost:8080/",
          "height": 34
        },
        "outputId": "30b80f6a-c804-4445-bf16-ee0564c98814"
      },
      "source": [
        "type(my_phone)"
      ],
      "execution_count": 72,
      "outputs": [
        {
          "output_type": "execute_result",
          "data": {
            "text/plain": [
              "list"
            ]
          },
          "metadata": {
            "tags": []
          },
          "execution_count": 72
        }
      ]
    },
    {
      "cell_type": "code",
      "metadata": {
        "id": "7dQ-B7bdAHmr",
        "colab_type": "code",
        "colab": {
          "base_uri": "https://localhost:8080/",
          "height": 34
        },
        "outputId": "6fd4718c-7c80-44d2-ed84-23d320a9386a"
      },
      "source": [
        "print(my_phone)"
      ],
      "execution_count": 73,
      "outputs": [
        {
          "output_type": "stream",
          "text": [
            "['iPhone 5s', False, 4.5]\n"
          ],
          "name": "stdout"
        }
      ]
    },
    {
      "cell_type": "code",
      "metadata": {
        "id": "BvdT5V5hAOxV",
        "colab_type": "code",
        "colab": {
          "base_uri": "https://localhost:8080/",
          "height": 34
        },
        "outputId": "731e0668-e52d-42ca-aca4-d973da5fc008"
      },
      "source": [
        "my_phone[1:2]"
      ],
      "execution_count": 74,
      "outputs": [
        {
          "output_type": "execute_result",
          "data": {
            "text/plain": [
              "[False]"
            ]
          },
          "metadata": {
            "tags": []
          },
          "execution_count": 74
        }
      ]
    },
    {
      "cell_type": "code",
      "metadata": {
        "id": "kpUWxM3HAlRl",
        "colab_type": "code",
        "colab": {}
      },
      "source": [
        "my_dads_phone = my_phone"
      ],
      "execution_count": 75,
      "outputs": []
    },
    {
      "cell_type": "code",
      "metadata": {
        "id": "IePuii0QBPpi",
        "colab_type": "code",
        "colab": {
          "base_uri": "https://localhost:8080/",
          "height": 34
        },
        "outputId": "ff2011b9-0058-4b2d-9433-af5e50a437dd"
      },
      "source": [
        "print(my_dads_phone)"
      ],
      "execution_count": 76,
      "outputs": [
        {
          "output_type": "stream",
          "text": [
            "['iPhone 5s', False, 4.5]\n"
          ],
          "name": "stdout"
        }
      ]
    },
    {
      "cell_type": "code",
      "metadata": {
        "id": "FTBW3WvoBR_x",
        "colab_type": "code",
        "colab": {}
      },
      "source": [
        "my_phone[2] = 4"
      ],
      "execution_count": 77,
      "outputs": []
    },
    {
      "cell_type": "code",
      "metadata": {
        "id": "Wa8_h7ZBBWS_",
        "colab_type": "code",
        "colab": {
          "base_uri": "https://localhost:8080/",
          "height": 50
        },
        "outputId": "a5b9d967-b79f-44c7-ce4b-0cb52ab519d4"
      },
      "source": [
        "print(my_phone)\n",
        "print(my_dads_phone) # Not deep copying, reference adding"
      ],
      "execution_count": 78,
      "outputs": [
        {
          "output_type": "stream",
          "text": [
            "['iPhone 5s', False, 4]\n",
            "['iPhone 5s', False, 4]\n"
          ],
          "name": "stdout"
        }
      ]
    },
    {
      "cell_type": "code",
      "metadata": {
        "id": "ghr_wODqBafL",
        "colab_type": "code",
        "colab": {}
      },
      "source": [
        "# To stop referencing and only copy\n",
        "my_other_phone = list(my_phone)\n",
        "# my_other_phone = my_phone[:]"
      ],
      "execution_count": 79,
      "outputs": []
    },
    {
      "cell_type": "code",
      "metadata": {
        "id": "oe_-IMBaCESm",
        "colab_type": "code",
        "colab": {}
      },
      "source": [
        "my_phone[2] = 4.5"
      ],
      "execution_count": 80,
      "outputs": []
    },
    {
      "cell_type": "code",
      "metadata": {
        "id": "8GVkdYicCH56",
        "colab_type": "code",
        "colab": {
          "base_uri": "https://localhost:8080/",
          "height": 50
        },
        "outputId": "0900012e-ea84-4a8d-bdca-b85da18a334d"
      },
      "source": [
        "print(my_phone)\n",
        "print(my_other_phone)"
      ],
      "execution_count": 81,
      "outputs": [
        {
          "output_type": "stream",
          "text": [
            "['iPhone 5s', False, 4.5]\n",
            "['iPhone 5s', False, 4]\n"
          ],
          "name": "stdout"
        }
      ]
    },
    {
      "cell_type": "code",
      "metadata": {
        "id": "hcAeq331CLuI",
        "colab_type": "code",
        "colab": {
          "base_uri": "https://localhost:8080/",
          "height": 34
        },
        "outputId": "0e839629-cde9-4628-f22a-bc0d4555cc4b"
      },
      "source": [
        "len(my_phone)"
      ],
      "execution_count": 82,
      "outputs": [
        {
          "output_type": "execute_result",
          "data": {
            "text/plain": [
              "3"
            ]
          },
          "metadata": {
            "tags": []
          },
          "execution_count": 82
        }
      ]
    },
    {
      "cell_type": "code",
      "metadata": {
        "id": "EUdG-vjGCgKI",
        "colab_type": "code",
        "colab": {}
      },
      "source": [
        "len?"
      ],
      "execution_count": 83,
      "outputs": []
    },
    {
      "cell_type": "code",
      "metadata": {
        "id": "eUa6fCFBChan",
        "colab_type": "code",
        "colab": {}
      },
      "source": [
        "my_phone.append('3G')"
      ],
      "execution_count": 84,
      "outputs": []
    },
    {
      "cell_type": "code",
      "metadata": {
        "id": "q_4S1t5vCoh9",
        "colab_type": "code",
        "colab": {
          "base_uri": "https://localhost:8080/",
          "height": 34
        },
        "outputId": "9b3f4c16-5c10-4f1f-e2da-3fd03de1b874"
      },
      "source": [
        "len(my_phone)"
      ],
      "execution_count": 85,
      "outputs": [
        {
          "output_type": "execute_result",
          "data": {
            "text/plain": [
              "4"
            ]
          },
          "metadata": {
            "tags": []
          },
          "execution_count": 85
        }
      ]
    },
    {
      "cell_type": "code",
      "metadata": {
        "id": "gdIbuZ_OCqnj",
        "colab_type": "code",
        "colab": {
          "base_uri": "https://localhost:8080/",
          "height": 34
        },
        "outputId": "787c6b0f-2d14-4320-8a41-c34f13789c45"
      },
      "source": [
        "print(my_phone)"
      ],
      "execution_count": 86,
      "outputs": [
        {
          "output_type": "stream",
          "text": [
            "['iPhone 5s', False, 4.5, '3G']\n"
          ],
          "name": "stdout"
        }
      ]
    },
    {
      "cell_type": "code",
      "metadata": {
        "id": "jnApH5bRCskz",
        "colab_type": "code",
        "colab": {}
      },
      "source": [
        "iphone5s_some_pref = ['single sim', 35000]"
      ],
      "execution_count": 87,
      "outputs": []
    },
    {
      "cell_type": "code",
      "metadata": {
        "id": "9LmCWQThDR7k",
        "colab_type": "code",
        "colab": {}
      },
      "source": [
        "my_phone = my_phone + iphone5s_some_pref # addition of two lists"
      ],
      "execution_count": 88,
      "outputs": []
    },
    {
      "cell_type": "code",
      "metadata": {
        "id": "urSTx34LDVOQ",
        "colab_type": "code",
        "colab": {
          "base_uri": "https://localhost:8080/",
          "height": 34
        },
        "outputId": "b672bd8d-9051-485c-fb30-bfa610ded14c"
      },
      "source": [
        "print(my_phone)"
      ],
      "execution_count": 89,
      "outputs": [
        {
          "output_type": "stream",
          "text": [
            "['iPhone 5s', False, 4.5, '3G', 'single sim', 35000]\n"
          ],
          "name": "stdout"
        }
      ]
    },
    {
      "cell_type": "code",
      "metadata": {
        "id": "c9n4tzKwDXXN",
        "colab_type": "code",
        "colab": {
          "base_uri": "https://localhost:8080/",
          "height": 118
        },
        "outputId": "2e9197ba-5a59-4b5f-e9f7-d3b3c8ab7426"
      },
      "source": [
        "for data in my_phone:\n",
        "  print(data)"
      ],
      "execution_count": 90,
      "outputs": [
        {
          "output_type": "stream",
          "text": [
            "iPhone 5s\n",
            "False\n",
            "4.5\n",
            "3G\n",
            "single sim\n",
            "35000\n"
          ],
          "name": "stdout"
        }
      ]
    },
    {
      "cell_type": "code",
      "metadata": {
        "id": "SWQ9nTIlDjEr",
        "colab_type": "code",
        "colab": {
          "base_uri": "https://localhost:8080/",
          "height": 34
        },
        "outputId": "e324e8b1-b4f2-425c-d65f-8b3dbca33ce1"
      },
      "source": [
        "range(5)"
      ],
      "execution_count": 91,
      "outputs": [
        {
          "output_type": "execute_result",
          "data": {
            "text/plain": [
              "range(0, 5)"
            ]
          },
          "metadata": {
            "tags": []
          },
          "execution_count": 91
        }
      ]
    },
    {
      "cell_type": "code",
      "metadata": {
        "id": "99Fg3L5-DvB5",
        "colab_type": "code",
        "colab": {
          "base_uri": "https://localhost:8080/",
          "height": 34
        },
        "outputId": "4d5b3995-60ab-4f11-9393-ab10bf0f8e18"
      },
      "source": [
        "print(list(range(5))) #Convert range into list"
      ],
      "execution_count": 92,
      "outputs": [
        {
          "output_type": "stream",
          "text": [
            "[0, 1, 2, 3, 4]\n"
          ],
          "name": "stdout"
        }
      ]
    },
    {
      "cell_type": "code",
      "metadata": {
        "id": "kNeVrWb2Dx_0",
        "colab_type": "code",
        "colab": {}
      },
      "source": [
        "a = list(range(5))"
      ],
      "execution_count": 93,
      "outputs": []
    },
    {
      "cell_type": "code",
      "metadata": {
        "id": "-YHe6etRERTz",
        "colab_type": "code",
        "colab": {
          "base_uri": "https://localhost:8080/",
          "height": 34
        },
        "outputId": "e17d783f-ba8f-4629-9e8f-5892bcd07c22"
      },
      "source": [
        "print(a)"
      ],
      "execution_count": 94,
      "outputs": [
        {
          "output_type": "stream",
          "text": [
            "[0, 1, 2, 3, 4]\n"
          ],
          "name": "stdout"
        }
      ]
    },
    {
      "cell_type": "code",
      "metadata": {
        "id": "NyAgbexDESz3",
        "colab_type": "code",
        "colab": {
          "base_uri": "https://localhost:8080/",
          "height": 34
        },
        "outputId": "d223d8c3-77c8-4191-e30b-2e40235c8949"
      },
      "source": [
        "b = list(map(lambda x: x**2, a)) # Map operator on list\n",
        "print(b)"
      ],
      "execution_count": 95,
      "outputs": [
        {
          "output_type": "stream",
          "text": [
            "[0, 1, 4, 9, 16]\n"
          ],
          "name": "stdout"
        }
      ]
    },
    {
      "cell_type": "code",
      "metadata": {
        "id": "3uyi4DZGFFxZ",
        "colab_type": "code",
        "colab": {
          "base_uri": "https://localhost:8080/",
          "height": 34
        },
        "outputId": "13283352-d96b-495b-c0f4-3fd2a49868c0"
      },
      "source": [
        "c = list(filter(lambda x: x%2==0, b))\n",
        "print(c)"
      ],
      "execution_count": 96,
      "outputs": [
        {
          "output_type": "stream",
          "text": [
            "[0, 4, 16]\n"
          ],
          "name": "stdout"
        }
      ]
    },
    {
      "cell_type": "code",
      "metadata": {
        "id": "Lh5pfvY1FZTc",
        "colab_type": "code",
        "colab": {}
      },
      "source": [
        ""
      ],
      "execution_count": 96,
      "outputs": []
    },
    {
      "cell_type": "markdown",
      "metadata": {
        "id": "0rw_rxUYF58a",
        "colab_type": "text"
      },
      "source": [
        "#**Tuple, Set and Dictionary**"
      ]
    },
    {
      "cell_type": "code",
      "metadata": {
        "id": "lajLjcJcF9zK",
        "colab_type": "code",
        "colab": {
          "base_uri": "https://localhost:8080/",
          "height": 50
        },
        "outputId": "9f3b32b0-9f1a-4123-a7a6-f36e49ac6886"
      },
      "source": [
        "print(my_phone)\n",
        "type(my_phone)"
      ],
      "execution_count": 97,
      "outputs": [
        {
          "output_type": "stream",
          "text": [
            "['iPhone 5s', False, 4.5, '3G', 'single sim', 35000]\n"
          ],
          "name": "stdout"
        },
        {
          "output_type": "execute_result",
          "data": {
            "text/plain": [
              "list"
            ]
          },
          "metadata": {
            "tags": []
          },
          "execution_count": 97
        }
      ]
    },
    {
      "cell_type": "code",
      "metadata": {
        "id": "XQ4B8nbPGdbo",
        "colab_type": "code",
        "colab": {
          "base_uri": "https://localhost:8080/",
          "height": 50
        },
        "outputId": "89281576-1930-4cef-a9c8-9e64dde322de"
      },
      "source": [
        "my_phone_tuple = ('iPhone 5s', False, 4.5)\n",
        "print(my_phone_tuple)\n",
        "type(my_phone_tuple)"
      ],
      "execution_count": 98,
      "outputs": [
        {
          "output_type": "stream",
          "text": [
            "('iPhone 5s', False, 4.5)\n"
          ],
          "name": "stdout"
        },
        {
          "output_type": "execute_result",
          "data": {
            "text/plain": [
              "tuple"
            ]
          },
          "metadata": {
            "tags": []
          },
          "execution_count": 98
        }
      ]
    },
    {
      "cell_type": "code",
      "metadata": {
        "id": "xdK2N6sqG5Qp",
        "colab_type": "code",
        "colab": {
          "base_uri": "https://localhost:8080/",
          "height": 34
        },
        "outputId": "0dde9538-482d-4a2e-e41d-f5e31ed5e034"
      },
      "source": [
        "my_phone_tuple[0:2]"
      ],
      "execution_count": 99,
      "outputs": [
        {
          "output_type": "execute_result",
          "data": {
            "text/plain": [
              "('iPhone 5s', False)"
            ]
          },
          "metadata": {
            "tags": []
          },
          "execution_count": 99
        }
      ]
    },
    {
      "cell_type": "code",
      "metadata": {
        "id": "6uiNVg6AG9AB",
        "colab_type": "code",
        "colab": {
          "base_uri": "https://localhost:8080/",
          "height": 67
        },
        "outputId": "85db447d-f933-4bcb-a713-04863427dd8c"
      },
      "source": [
        "for data in my_phone_tuple:\n",
        "  print(data)"
      ],
      "execution_count": 100,
      "outputs": [
        {
          "output_type": "stream",
          "text": [
            "iPhone 5s\n",
            "False\n",
            "4.5\n"
          ],
          "name": "stdout"
        }
      ]
    },
    {
      "cell_type": "code",
      "metadata": {
        "id": "xn7EpW4CHEF9",
        "colab_type": "code",
        "colab": {
          "base_uri": "https://localhost:8080/",
          "height": 182
        },
        "outputId": "c071175e-4714-4073-dfa3-5431e764e787"
      },
      "source": [
        "my_phone_tuple[2] = 4 #Tuple is an imuutable dataset i.e once it is assigned, the value can't be altered"
      ],
      "execution_count": 101,
      "outputs": [
        {
          "output_type": "error",
          "ename": "TypeError",
          "evalue": "ignored",
          "traceback": [
            "\u001b[0;31m---------------------------------------------------------------------------\u001b[0m",
            "\u001b[0;31mTypeError\u001b[0m                                 Traceback (most recent call last)",
            "\u001b[0;32m<ipython-input-101-4a35b3b26422>\u001b[0m in \u001b[0;36m<module>\u001b[0;34m()\u001b[0m\n\u001b[0;32m----> 1\u001b[0;31m \u001b[0mmy_phone_tuple\u001b[0m\u001b[0;34m[\u001b[0m\u001b[0;36m2\u001b[0m\u001b[0;34m]\u001b[0m \u001b[0;34m=\u001b[0m \u001b[0;36m4\u001b[0m \u001b[0;31m#Tuple is an imuutable dataset i.e once it is assigned, the value can't be altered\u001b[0m\u001b[0;34m\u001b[0m\u001b[0;34m\u001b[0m\u001b[0m\n\u001b[0m",
            "\u001b[0;31mTypeError\u001b[0m: 'tuple' object does not support item assignment"
          ]
        }
      ]
    },
    {
      "cell_type": "code",
      "metadata": {
        "id": "TY3JddQwHOb9",
        "colab_type": "code",
        "colab": {}
      },
      "source": [
        "import time"
      ],
      "execution_count": null,
      "outputs": []
    },
    {
      "cell_type": "code",
      "metadata": {
        "id": "8ie7oV48H0f6",
        "colab_type": "code",
        "colab": {}
      },
      "source": [
        "tic = time.time()\n",
        "print(tic)"
      ],
      "execution_count": null,
      "outputs": []
    },
    {
      "cell_type": "code",
      "metadata": {
        "id": "HeUr2soXH3ng",
        "colab_type": "code",
        "colab": {}
      },
      "source": [
        "tic = time.time()\n",
        "# Do something to elapse time\n",
        "toc = time.time()\n",
        "print('Elapsed time', toc-tic)"
      ],
      "execution_count": null,
      "outputs": []
    },
    {
      "cell_type": "code",
      "metadata": {
        "id": "oYVqQBFXID1c",
        "colab_type": "code",
        "colab": {}
      },
      "source": [
        "time.time?"
      ],
      "execution_count": null,
      "outputs": []
    },
    {
      "cell_type": "code",
      "metadata": {
        "id": "QcAFEJT_IHrH",
        "colab_type": "code",
        "colab": {}
      },
      "source": [
        "my_list = list(range(1000000))\n",
        "tic = time.time()\n",
        "my_squared_list = list(map(lambda x: x**2, my_list))\n",
        "toc = time.time()\n",
        "print('Elapsed time', toc-tic)"
      ],
      "execution_count": null,
      "outputs": []
    },
    {
      "cell_type": "code",
      "metadata": {
        "id": "G4uuNwDyI_rA",
        "colab_type": "code",
        "colab": {}
      },
      "source": [
        "my_tuple = list(range(1000000))\n",
        "tic = time.time()\n",
        "my_squared_tuple = list(map(lambda x: x**2, my_tuple))\n",
        "toc = time.time()\n",
        "print('Elapsed time', toc-tic)"
      ],
      "execution_count": null,
      "outputs": []
    },
    {
      "cell_type": "markdown",
      "metadata": {
        "id": "lzlHIFpBJLL2",
        "colab_type": "text"
      },
      "source": [
        "\n",
        "**Important**\n",
        "*   Tuple operation takes less time than list operation\n",
        "*   Tuple is immutable object and list is a mutable object\n",
        "\n"
      ]
    },
    {
      "cell_type": "markdown",
      "metadata": {
        "id": "ODxU-ZasJsOk",
        "colab_type": "text"
      },
      "source": [
        "**Sets**"
      ]
    },
    {
      "cell_type": "code",
      "metadata": {
        "id": "ESU8rAKxJYy4",
        "colab_type": "code",
        "colab": {}
      },
      "source": [
        "my_phone_set = set(my_phone)"
      ],
      "execution_count": null,
      "outputs": []
    },
    {
      "cell_type": "code",
      "metadata": {
        "id": "2v7wKChhKgVn",
        "colab_type": "code",
        "colab": {}
      },
      "source": [
        "print(my_phone_set)"
      ],
      "execution_count": null,
      "outputs": []
    },
    {
      "cell_type": "code",
      "metadata": {
        "id": "opCwackjKjMo",
        "colab_type": "code",
        "colab": {}
      },
      "source": [
        "my_phone.append(4.5)"
      ],
      "execution_count": null,
      "outputs": []
    },
    {
      "cell_type": "code",
      "metadata": {
        "id": "nqONp851KqvZ",
        "colab_type": "code",
        "colab": {}
      },
      "source": [
        "print(my_phone)"
      ],
      "execution_count": null,
      "outputs": []
    },
    {
      "cell_type": "code",
      "metadata": {
        "id": "fSvKVm-aRnKn",
        "colab_type": "code",
        "colab": {}
      },
      "source": [
        "my_phone_set = set(my_phone)"
      ],
      "execution_count": null,
      "outputs": []
    },
    {
      "cell_type": "code",
      "metadata": {
        "id": "i9ryOUSUakRJ",
        "colab_type": "code",
        "colab": {}
      },
      "source": [
        "my_phone_set.append('hi') #can not append set data"
      ],
      "execution_count": null,
      "outputs": []
    },
    {
      "cell_type": "code",
      "metadata": {
        "id": "o5e6x_1KRsrp",
        "colab_type": "code",
        "colab": {}
      },
      "source": [
        "print(my_phone_set)"
      ],
      "execution_count": null,
      "outputs": []
    },
    {
      "cell_type": "code",
      "metadata": {
        "id": "zVY-c6q5RvgJ",
        "colab_type": "code",
        "colab": {}
      },
      "source": [
        "my_list = list(range(1000000))\n",
        "tic = time.time()\n",
        "print(98731 in my_list)\n",
        "print(131591 in my_list)\n",
        "print(1111111 in my_list)\n",
        "toc = time.time()\n",
        "print('Elapsed time', toc-tic)"
      ],
      "execution_count": null,
      "outputs": []
    },
    {
      "cell_type": "code",
      "metadata": {
        "id": "TznHqxT8Sh0i",
        "colab_type": "code",
        "colab": {}
      },
      "source": [
        "my_set = list(range(1000000))\n",
        "tic = time.time()\n",
        "print(98731 in my_set)\n",
        "print(131591 in my_set)\n",
        "print(1111111 in my_set)\n",
        "toc = time.time()\n",
        "print('Elapsed time', toc-tic)"
      ],
      "execution_count": null,
      "outputs": []
    },
    {
      "cell_type": "code",
      "metadata": {
        "id": "VXDr861bTDVN",
        "colab_type": "code",
        "colab": {}
      },
      "source": [
        "my_set = {5, 'iPhone', 4.5}\n",
        "type(my_set)"
      ],
      "execution_count": null,
      "outputs": []
    },
    {
      "cell_type": "markdown",
      "metadata": {
        "id": "l_fpDRJ0aZYi",
        "colab_type": "text"
      },
      "source": [
        "**Dictionary**"
      ]
    },
    {
      "cell_type": "code",
      "metadata": {
        "id": "tnc7hKCuTGm3",
        "colab_type": "code",
        "colab": {}
      },
      "source": [
        "my_dict = {}\n",
        "type(my_dict)"
      ],
      "execution_count": null,
      "outputs": []
    },
    {
      "cell_type": "code",
      "metadata": {
        "id": "LawZv6RAaKgp",
        "colab_type": "code",
        "colab": {}
      },
      "source": [
        "my_dict['name'] = 'iPhone5s'\n",
        "my_dict['is_android'] = False\n",
        "my_dict['screen_size'] = 4.5"
      ],
      "execution_count": null,
      "outputs": []
    },
    {
      "cell_type": "code",
      "metadata": {
        "id": "298VFyGVaWEU",
        "colab_type": "code",
        "colab": {}
      },
      "source": [
        "print(my_dict)"
      ],
      "execution_count": null,
      "outputs": []
    },
    {
      "cell_type": "code",
      "metadata": {
        "id": "RNksmJ4HaXo7",
        "colab_type": "code",
        "colab": {}
      },
      "source": [
        "print(my_dict.keys())"
      ],
      "execution_count": null,
      "outputs": []
    },
    {
      "cell_type": "code",
      "metadata": {
        "id": "4jpsX-uJa-l6",
        "colab_type": "code",
        "colab": {}
      },
      "source": [
        "print(my_dict.values())"
      ],
      "execution_count": null,
      "outputs": []
    },
    {
      "cell_type": "code",
      "metadata": {
        "id": "WCsg1fMGbBez",
        "colab_type": "code",
        "colab": {}
      },
      "source": [
        "print(my_dict.items())"
      ],
      "execution_count": null,
      "outputs": []
    },
    {
      "cell_type": "code",
      "metadata": {
        "id": "WubgL6aObG3_",
        "colab_type": "code",
        "colab": {}
      },
      "source": [
        "for key in my_dict.keys():\n",
        "  print(key,' : ' ,my_dict[key])"
      ],
      "execution_count": null,
      "outputs": []
    },
    {
      "cell_type": "code",
      "metadata": {
        "id": "oV3sWBtmbVLo",
        "colab_type": "code",
        "colab": {}
      },
      "source": [
        ""
      ],
      "execution_count": null,
      "outputs": []
    },
    {
      "cell_type": "markdown",
      "metadata": {
        "id": "tQyBOLHXcKSC",
        "colab_type": "text"
      },
      "source": [
        "#**Python Packages**"
      ]
    },
    {
      "cell_type": "code",
      "metadata": {
        "id": "Uipsy7KhcMDV",
        "colab_type": "code",
        "colab": {}
      },
      "source": [
        "import math"
      ],
      "execution_count": null,
      "outputs": []
    },
    {
      "cell_type": "code",
      "metadata": {
        "id": "zwFCotctcmdZ",
        "colab_type": "code",
        "colab": {}
      },
      "source": [
        "a = math.sqrt(100)\n",
        "print(a)"
      ],
      "execution_count": null,
      "outputs": []
    },
    {
      "cell_type": "code",
      "metadata": {
        "id": "k_18dQdecsIG",
        "colab_type": "code",
        "colab": {}
      },
      "source": [
        "b = math.pow(100, 0.5)\n",
        "print(b)"
      ],
      "execution_count": null,
      "outputs": []
    },
    {
      "cell_type": "code",
      "metadata": {
        "id": "hsjtZis3cw0v",
        "colab_type": "code",
        "colab": {}
      },
      "source": [
        "x = 100\n",
        "y = 1\n",
        "\n",
        "for i in range(1, x):\n",
        "  y *= i\n",
        "\n",
        "print('Factorial of', x, 'is: ',y)"
      ],
      "execution_count": null,
      "outputs": []
    },
    {
      "cell_type": "code",
      "metadata": {
        "id": "zFR-plsJc7Za",
        "colab_type": "code",
        "colab": {}
      },
      "source": [
        "y = math.factorial(x)\n",
        "print(y)"
      ],
      "execution_count": null,
      "outputs": []
    },
    {
      "cell_type": "code",
      "metadata": {
        "id": "PP09CITwdPty",
        "colab_type": "code",
        "colab": {}
      },
      "source": [
        "import math as m"
      ],
      "execution_count": null,
      "outputs": []
    },
    {
      "cell_type": "code",
      "metadata": {
        "id": "VtQzdNTldVD-",
        "colab_type": "code",
        "colab": {}
      },
      "source": [
        "y = m.factorial(100)\n",
        "print(y)"
      ],
      "execution_count": null,
      "outputs": []
    },
    {
      "cell_type": "code",
      "metadata": {
        "id": "OZfISlTXdZXW",
        "colab_type": "code",
        "colab": {}
      },
      "source": [
        "#when want to use factorial very often\n",
        "from math import factorial\n",
        "y = factorial(x)\n",
        "print(y)"
      ],
      "execution_count": null,
      "outputs": []
    },
    {
      "cell_type": "code",
      "metadata": {
        "id": "c9HxZZKDdqEQ",
        "colab_type": "code",
        "colab": {}
      },
      "source": [
        "import math, time\n",
        "\n",
        "vals = list(range(1, 100))\n",
        "result = 1\n",
        "tic = time.time()\n",
        "y = 1\n",
        "for i in vals:\n",
        "  y *= i\n",
        "  result = y\n",
        "toc = time.time()\n",
        "print('Result: ', result, 'and elapse time: ', toc-tic)\n",
        "\n",
        "tic = time.time()\n",
        "y = math.factorial(x)\n",
        "result = y\n",
        "toc = time.time()\n",
        "print('Result: ', result, 'and elapse time: ', toc-tic)"
      ],
      "execution_count": null,
      "outputs": []
    },
    {
      "cell_type": "code",
      "metadata": {
        "id": "wIhbRxdEgdWr",
        "colab_type": "code",
        "colab": {}
      },
      "source": [
        "!echo 'def hello():' > my_first_module.py\n",
        "!echo '    print(\"hello, from another file!!!\")' >> my_first_module.py"
      ],
      "execution_count": null,
      "outputs": []
    },
    {
      "cell_type": "code",
      "metadata": {
        "id": "waLfyBNrglG2",
        "colab_type": "code",
        "colab": {}
      },
      "source": [
        "!cat my_first_module.py "
      ],
      "execution_count": null,
      "outputs": []
    },
    {
      "cell_type": "code",
      "metadata": {
        "id": "6DAfQAKOgqRM",
        "colab_type": "code",
        "colab": {}
      },
      "source": [
        "import my_first_module as m\n",
        "m.hello()"
      ],
      "execution_count": null,
      "outputs": []
    },
    {
      "cell_type": "code",
      "metadata": {
        "id": "pDLmhPjwhIKP",
        "colab_type": "code",
        "colab": {}
      },
      "source": [
        "from my_first_module import hello\n",
        "hello()"
      ],
      "execution_count": null,
      "outputs": []
    },
    {
      "cell_type": "markdown",
      "metadata": {
        "id": "PF91iLoMhpDT",
        "colab_type": "text"
      },
      "source": [
        "#**File Handling**"
      ]
    },
    {
      "cell_type": "code",
      "metadata": {
        "id": "eojQ62oThrGY",
        "colab_type": "code",
        "colab": {}
      },
      "source": [
        "!wget https://s3.amazonaws.com/thinkific-import/153034/mobile_cleaned-1549119762886.csv"
      ],
      "execution_count": null,
      "outputs": []
    },
    {
      "cell_type": "code",
      "metadata": {
        "id": "JCf1WN-JiIK8",
        "colab_type": "code",
        "colab": {}
      },
      "source": [
        "!ls"
      ],
      "execution_count": null,
      "outputs": []
    },
    {
      "cell_type": "code",
      "metadata": {
        "id": "6qxFkRGniNhb",
        "colab_type": "code",
        "colab": {}
      },
      "source": [
        "file = open('mobile_cleaned-1549119762886.csv', mode='r')"
      ],
      "execution_count": null,
      "outputs": []
    },
    {
      "cell_type": "code",
      "metadata": {
        "id": "Wa1JOuIzix8a",
        "colab_type": "code",
        "colab": {}
      },
      "source": [
        "s = file.readline()\n",
        "print(s)\n",
        "type(s)"
      ],
      "execution_count": null,
      "outputs": []
    },
    {
      "cell_type": "code",
      "metadata": {
        "id": "9HEy9ZO9jB15",
        "colab_type": "code",
        "colab": {}
      },
      "source": [
        "print(s.split(',')) #SPlit string and get list"
      ],
      "execution_count": null,
      "outputs": []
    },
    {
      "cell_type": "code",
      "metadata": {
        "id": "JE1m5J5ajLX3",
        "colab_type": "code",
        "colab": {}
      },
      "source": [
        "file.close()"
      ],
      "execution_count": null,
      "outputs": []
    },
    {
      "cell_type": "code",
      "metadata": {
        "id": "m6R4_GgHjkDv",
        "colab_type": "code",
        "colab": {}
      },
      "source": [
        "file.readline()"
      ],
      "execution_count": null,
      "outputs": []
    },
    {
      "cell_type": "code",
      "metadata": {
        "id": "qY_XoaBnjmDs",
        "colab_type": "code",
        "colab": {}
      },
      "source": [
        "with open('mobile_cleaned-1549119762886.csv', 'r') as file:\n",
        "  print(file.readline())"
      ],
      "execution_count": null,
      "outputs": []
    },
    {
      "cell_type": "code",
      "metadata": {
        "id": "z1AYs2rVkBKW",
        "colab_type": "code",
        "colab": {}
      },
      "source": [
        "with open('mobile_cleaned-1549119762886.csv', mode='r') as file:\n",
        "  for line in file:\n",
        "    for word in line.split(','):\n",
        "      print(word)\n",
        "    print('----')"
      ],
      "execution_count": null,
      "outputs": []
    },
    {
      "cell_type": "code",
      "metadata": {
        "id": "hG1oaB4mmPVK",
        "colab_type": "code",
        "colab": {}
      },
      "source": [
        "with open('my_first_file_handling', mode='w') as file:\n",
        "  file.write('Hello from python code!!!')"
      ],
      "execution_count": null,
      "outputs": []
    },
    {
      "cell_type": "code",
      "metadata": {
        "id": "QyzH2uo0nKUK",
        "colab_type": "code",
        "colab": {}
      },
      "source": [
        "!cat my_first_file_handling"
      ],
      "execution_count": null,
      "outputs": []
    },
    {
      "cell_type": "markdown",
      "metadata": {
        "id": "8EsSE5ArncfS",
        "colab_type": "text"
      },
      "source": [
        "#**Classes**"
      ]
    },
    {
      "cell_type": "code",
      "metadata": {
        "id": "XuNhyCdTnd9X",
        "colab_type": "code",
        "colab": {}
      },
      "source": [
        "class MobilePhone:\n",
        "  '''This class is python class'''\n",
        "  def __init__(self, name, is_android=False, screen_size=4.5):\n",
        "    self.name = name\n",
        "    self.is_android = is_android\n",
        "    self.screen_size = screen_size\n",
        "    self.rating = -1\n",
        "\n",
        "  def hasRating(self):\n",
        "    return self.rating>-1"
      ],
      "execution_count": 102,
      "outputs": []
    },
    {
      "cell_type": "code",
      "metadata": {
        "id": "u3X6Q5wZrQT-",
        "colab_type": "code",
        "colab": {}
      },
      "source": [
        "new_phone = MobilePhone('iPhone5s')"
      ],
      "execution_count": 103,
      "outputs": []
    },
    {
      "cell_type": "code",
      "metadata": {
        "id": "aLG7o7odrVme",
        "colab_type": "code",
        "colab": {
          "base_uri": "https://localhost:8080/",
          "height": 34
        },
        "outputId": "fec22d7f-fe12-429e-eb44-39ff732a3941"
      },
      "source": [
        "type(new_phone)"
      ],
      "execution_count": 105,
      "outputs": [
        {
          "output_type": "execute_result",
          "data": {
            "text/plain": [
              "__main__.MobilePhone"
            ]
          },
          "metadata": {
            "tags": []
          },
          "execution_count": 105
        }
      ]
    },
    {
      "cell_type": "code",
      "metadata": {
        "id": "uwWAf_prrXxH",
        "colab_type": "code",
        "colab": {}
      },
      "source": [
        "class iPhone(MobilePhone): #inheritance\n",
        "  def __init__(self, name):\n",
        "    MobilePhone.__init__(self, name, True, 4)\n",
        "\n",
        "  def __str__(self): # prints the data of object as default string\n",
        "    return self.name+' '+str(self.is_android)+' '+str(self.screen_size)+' '+str(self.rating)"
      ],
      "execution_count": 106,
      "outputs": []
    },
    {
      "cell_type": "code",
      "metadata": {
        "id": "8g4H2JFYr5es",
        "colab_type": "code",
        "colab": {}
      },
      "source": [
        "new_iphone = iPhone('iPhone x')"
      ],
      "execution_count": 107,
      "outputs": []
    },
    {
      "cell_type": "code",
      "metadata": {
        "id": "BwYGWT-XsAVU",
        "colab_type": "code",
        "colab": {
          "base_uri": "https://localhost:8080/",
          "height": 34
        },
        "outputId": "b8c31a08-c5a3-49b5-9307-3db5912848e7"
      },
      "source": [
        "print(new_iphone.screen_size)"
      ],
      "execution_count": 108,
      "outputs": [
        {
          "output_type": "stream",
          "text": [
            "4\n"
          ],
          "name": "stdout"
        }
      ]
    },
    {
      "cell_type": "code",
      "metadata": {
        "id": "Yn90ZdzIsDa2",
        "colab_type": "code",
        "colab": {
          "base_uri": "https://localhost:8080/",
          "height": 34
        },
        "outputId": "73e8b137-bf1f-4014-d0d0-5f785b7cba78"
      },
      "source": [
        "MobilePhone.__doc__ #gets the documentation"
      ],
      "execution_count": 109,
      "outputs": [
        {
          "output_type": "execute_result",
          "data": {
            "text/plain": [
              "'This class is python class'"
            ]
          },
          "metadata": {
            "tags": []
          },
          "execution_count": 109
        }
      ]
    },
    {
      "cell_type": "code",
      "metadata": {
        "id": "_WetTJMPsPCM",
        "colab_type": "code",
        "colab": {
          "base_uri": "https://localhost:8080/",
          "height": 34
        },
        "outputId": "79a1c6a1-b2a1-491e-a5b7-367238568a4b"
      },
      "source": [
        "print(new_iphone)"
      ],
      "execution_count": 110,
      "outputs": [
        {
          "output_type": "stream",
          "text": [
            "iPhone x True 4 -1\n"
          ],
          "name": "stdout"
        }
      ]
    },
    {
      "cell_type": "markdown",
      "metadata": {
        "id": "A8kapuNxQDwh",
        "colab_type": "text"
      },
      "source": [
        "#**NumPy**\n",
        "Numerical package"
      ]
    },
    {
      "cell_type": "code",
      "metadata": {
        "id": "2tYh2XUpQKiG",
        "colab_type": "code",
        "colab": {}
      },
      "source": [
        "import numpy as np"
      ],
      "execution_count": 111,
      "outputs": []
    },
    {
      "cell_type": "code",
      "metadata": {
        "id": "8ep7WVs3Qd4E",
        "colab_type": "code",
        "colab": {}
      },
      "source": [
        "X = np.array([1,2,3])"
      ],
      "execution_count": 112,
      "outputs": []
    },
    {
      "cell_type": "code",
      "metadata": {
        "id": "2M6K5kGQQnZA",
        "colab_type": "code",
        "colab": {
          "base_uri": "https://localhost:8080/",
          "height": 34
        },
        "outputId": "6efb65fc-2813-4b3f-f8dc-262769367a97"
      },
      "source": [
        "type(X)"
      ],
      "execution_count": 113,
      "outputs": [
        {
          "output_type": "execute_result",
          "data": {
            "text/plain": [
              "numpy.ndarray"
            ]
          },
          "metadata": {
            "tags": []
          },
          "execution_count": 113
        }
      ]
    },
    {
      "cell_type": "code",
      "metadata": {
        "id": "atYOW5diQqXD",
        "colab_type": "code",
        "colab": {
          "base_uri": "https://localhost:8080/",
          "height": 50
        },
        "outputId": "5be211d6-9293-4922-8a00-9ac2c2daea55"
      },
      "source": [
        "l = [4, 5, 10]\n",
        "X = np.array(l)\n",
        "print(type(l)) # list\n",
        "print(type(X)) # numpy.ndarray"
      ],
      "execution_count": 116,
      "outputs": [
        {
          "output_type": "stream",
          "text": [
            "<class 'list'>\n",
            "<class 'numpy.ndarray'>\n"
          ],
          "name": "stdout"
        }
      ]
    },
    {
      "cell_type": "code",
      "metadata": {
        "id": "s2PSctkbRFMe",
        "colab_type": "code",
        "colab": {
          "base_uri": "https://localhost:8080/",
          "height": 34
        },
        "outputId": "327dfd1c-a943-4b3f-875e-7862b3529fc6"
      },
      "source": [
        "print(X)"
      ],
      "execution_count": 117,
      "outputs": [
        {
          "output_type": "stream",
          "text": [
            "[ 4  5 10]\n"
          ],
          "name": "stdout"
        }
      ]
    },
    {
      "cell_type": "code",
      "metadata": {
        "id": "FoY22201RQx-",
        "colab_type": "code",
        "colab": {}
      },
      "source": [
        "X = np.array(l, dtype='float') # convert into float"
      ],
      "execution_count": 118,
      "outputs": []
    },
    {
      "cell_type": "code",
      "metadata": {
        "id": "_L28IlYBReMW",
        "colab_type": "code",
        "colab": {
          "base_uri": "https://localhost:8080/",
          "height": 34
        },
        "outputId": "69b4eb12-4b50-4a6f-84c2-11a1682f1569"
      },
      "source": [
        "print(X)"
      ],
      "execution_count": 119,
      "outputs": [
        {
          "output_type": "stream",
          "text": [
            "[ 4.  5. 10.]\n"
          ],
          "name": "stdout"
        }
      ]
    },
    {
      "cell_type": "code",
      "metadata": {
        "id": "iYDWowfeRgBh",
        "colab_type": "code",
        "colab": {
          "base_uri": "https://localhost:8080/",
          "height": 34
        },
        "outputId": "755d3ba0-caba-44be-ce65-e0d96966d090"
      },
      "source": [
        "X.shape"
      ],
      "execution_count": 120,
      "outputs": [
        {
          "output_type": "execute_result",
          "data": {
            "text/plain": [
              "(3,)"
            ]
          },
          "metadata": {
            "tags": []
          },
          "execution_count": 120
        }
      ]
    },
    {
      "cell_type": "code",
      "metadata": {
        "id": "5HSUmRjWUX06",
        "colab_type": "code",
        "colab": {
          "base_uri": "https://localhost:8080/",
          "height": 34
        },
        "outputId": "0e47cc15-cb04-44b2-c1a6-088761d2089e"
      },
      "source": [
        "print(X.shape)"
      ],
      "execution_count": 121,
      "outputs": [
        {
          "output_type": "stream",
          "text": [
            "(3,)\n"
          ],
          "name": "stdout"
        }
      ]
    },
    {
      "cell_type": "code",
      "metadata": {
        "id": "F-6zEZznUcqj",
        "colab_type": "code",
        "colab": {}
      },
      "source": [
        "np.array?"
      ],
      "execution_count": 122,
      "outputs": []
    },
    {
      "cell_type": "code",
      "metadata": {
        "id": "t1geoG2nVNtI",
        "colab_type": "code",
        "colab": {}
      },
      "source": [
        "X = np.array([[1, 2, 3], [4, 5, 6]]) # two dimensional array"
      ],
      "execution_count": 124,
      "outputs": []
    },
    {
      "cell_type": "code",
      "metadata": {
        "id": "gYSEoHqRWXfF",
        "colab_type": "code",
        "colab": {
          "base_uri": "https://localhost:8080/",
          "height": 50
        },
        "outputId": "ec12eb04-1f61-476a-9225-44454ec976aa"
      },
      "source": [
        "print(X)"
      ],
      "execution_count": 125,
      "outputs": [
        {
          "output_type": "stream",
          "text": [
            "[[1 2 3]\n",
            " [4 5 6]]\n"
          ],
          "name": "stdout"
        }
      ]
    },
    {
      "cell_type": "code",
      "metadata": {
        "id": "hn24N4kUWfPw",
        "colab_type": "code",
        "colab": {
          "base_uri": "https://localhost:8080/",
          "height": 34
        },
        "outputId": "87b08137-5b52-46ce-9198-9c0f1fa253a6"
      },
      "source": [
        "X.shape"
      ],
      "execution_count": 126,
      "outputs": [
        {
          "output_type": "execute_result",
          "data": {
            "text/plain": [
              "(2, 3)"
            ]
          },
          "metadata": {
            "tags": []
          },
          "execution_count": 126
        }
      ]
    },
    {
      "cell_type": "code",
      "metadata": {
        "id": "b46oqNKRWhDh",
        "colab_type": "code",
        "colab": {
          "base_uri": "https://localhost:8080/",
          "height": 34
        },
        "outputId": "a8597d4f-0ffd-424c-e291-0232f6ee420e"
      },
      "source": [
        "X[1, 1] # access individual element"
      ],
      "execution_count": 127,
      "outputs": [
        {
          "output_type": "execute_result",
          "data": {
            "text/plain": [
              "5"
            ]
          },
          "metadata": {
            "tags": []
          },
          "execution_count": 127
        }
      ]
    },
    {
      "cell_type": "code",
      "metadata": {
        "id": "7r27G4g1W3Tk",
        "colab_type": "code",
        "colab": {
          "base_uri": "https://localhost:8080/",
          "height": 34
        },
        "outputId": "9ada51c6-1b80-4cd3-b280-0f8ea6fce04a"
      },
      "source": [
        "print(X[1, 0:2]) # access range of element"
      ],
      "execution_count": 129,
      "outputs": [
        {
          "output_type": "stream",
          "text": [
            "[4 5]\n"
          ],
          "name": "stdout"
        }
      ]
    },
    {
      "cell_type": "code",
      "metadata": {
        "id": "bSdDLz-VW_WM",
        "colab_type": "code",
        "colab": {
          "base_uri": "https://localhost:8080/",
          "height": 34
        },
        "outputId": "e6280c6a-2910-4eec-ea4b-e9e988cd9bcc"
      },
      "source": [
        "print(X[0, :]) # access a row"
      ],
      "execution_count": 130,
      "outputs": [
        {
          "output_type": "stream",
          "text": [
            "[1 2 3]\n"
          ],
          "name": "stdout"
        }
      ]
    },
    {
      "cell_type": "code",
      "metadata": {
        "id": "fV6jBV87XgZB",
        "colab_type": "code",
        "colab": {}
      },
      "source": [
        "X = np.zeros((4, 6), dtype=float) # inbuilt function (zeros)"
      ],
      "execution_count": 133,
      "outputs": []
    },
    {
      "cell_type": "code",
      "metadata": {
        "id": "R0oxlI4AX3b_",
        "colab_type": "code",
        "colab": {
          "base_uri": "https://localhost:8080/",
          "height": 84
        },
        "outputId": "b5ee7f07-d124-4182-fcac-e8a7d2bae6bc"
      },
      "source": [
        "print(X)"
      ],
      "execution_count": 134,
      "outputs": [
        {
          "output_type": "stream",
          "text": [
            "[[0. 0. 0. 0. 0. 0.]\n",
            " [0. 0. 0. 0. 0. 0.]\n",
            " [0. 0. 0. 0. 0. 0.]\n",
            " [0. 0. 0. 0. 0. 0.]]\n"
          ],
          "name": "stdout"
        }
      ]
    },
    {
      "cell_type": "code",
      "metadata": {
        "id": "o7oQfO_aX57c",
        "colab_type": "code",
        "colab": {
          "base_uri": "https://localhost:8080/",
          "height": 84
        },
        "outputId": "6429f04a-4300-4599-a177-8b347a289d68"
      },
      "source": [
        "X = np.eye(4, 4)\n",
        "print(X)"
      ],
      "execution_count": 135,
      "outputs": [
        {
          "output_type": "stream",
          "text": [
            "[[1. 0. 0. 0.]\n",
            " [0. 1. 0. 0.]\n",
            " [0. 0. 1. 0.]\n",
            " [0. 0. 0. 1.]]\n"
          ],
          "name": "stdout"
        }
      ]
    },
    {
      "cell_type": "code",
      "metadata": {
        "id": "xEryWDbPYYyj",
        "colab_type": "code",
        "colab": {
          "base_uri": "https://localhost:8080/",
          "height": 84
        },
        "outputId": "7ca05e27-c859-4dd7-ac12-3e08e4fd4d9f"
      },
      "source": [
        "X = np.random.random((4, 5)) # random number matrix\n",
        "print(X)"
      ],
      "execution_count": 137,
      "outputs": [
        {
          "output_type": "stream",
          "text": [
            "[[0.49154701 0.8156794  0.06270972 0.59939061 0.1868614 ]\n",
            " [0.57064599 0.63786722 0.80063637 0.833863   0.80420996]\n",
            " [0.85333294 0.03848185 0.41577322 0.47202166 0.52773222]\n",
            " [0.19545353 0.77785983 0.22754463 0.56147866 0.07618432]]\n"
          ],
          "name": "stdout"
        }
      ]
    },
    {
      "cell_type": "code",
      "metadata": {
        "id": "JBHmF8APY17u",
        "colab_type": "code",
        "colab": {
          "base_uri": "https://localhost:8080/",
          "height": 101
        },
        "outputId": "61a68305-a644-4911-845b-979ee885017f"
      },
      "source": [
        "Z = X.T # transpose a matrix\n",
        "print(Z)"
      ],
      "execution_count": 138,
      "outputs": [
        {
          "output_type": "stream",
          "text": [
            "[[0.49154701 0.57064599 0.85333294 0.19545353]\n",
            " [0.8156794  0.63786722 0.03848185 0.77785983]\n",
            " [0.06270972 0.80063637 0.41577322 0.22754463]\n",
            " [0.59939061 0.833863   0.47202166 0.56147866]\n",
            " [0.1868614  0.80420996 0.52773222 0.07618432]]\n"
          ],
          "name": "stdout"
        }
      ]
    },
    {
      "cell_type": "code",
      "metadata": {
        "id": "cFbVj5bSZJSn",
        "colab_type": "code",
        "colab": {
          "base_uri": "https://localhost:8080/",
          "height": 185
        },
        "outputId": "d02ae53b-184a-4f33-f93c-4e8a4426fc92"
      },
      "source": [
        "Y = X.reshape((10, 2)) # reshape the matrix into 10 rows and 2 columns\n",
        "print(Y)"
      ],
      "execution_count": 139,
      "outputs": [
        {
          "output_type": "stream",
          "text": [
            "[[0.49154701 0.8156794 ]\n",
            " [0.06270972 0.59939061]\n",
            " [0.1868614  0.57064599]\n",
            " [0.63786722 0.80063637]\n",
            " [0.833863   0.80420996]\n",
            " [0.85333294 0.03848185]\n",
            " [0.41577322 0.47202166]\n",
            " [0.52773222 0.19545353]\n",
            " [0.77785983 0.22754463]\n",
            " [0.56147866 0.07618432]]\n"
          ],
          "name": "stdout"
        }
      ]
    },
    {
      "cell_type": "code",
      "metadata": {
        "id": "IJg97IgmZsb3",
        "colab_type": "code",
        "colab": {}
      },
      "source": [
        "A = np.arange(5) # function like range\n",
        "B = np.arange(5)"
      ],
      "execution_count": 140,
      "outputs": []
    },
    {
      "cell_type": "code",
      "metadata": {
        "id": "xclzILumaMDK",
        "colab_type": "code",
        "colab": {
          "base_uri": "https://localhost:8080/",
          "height": 50
        },
        "outputId": "e03afe69-c1b3-40c4-970c-0642e299173d"
      },
      "source": [
        "print(A)\n",
        "print(B)"
      ],
      "execution_count": 141,
      "outputs": [
        {
          "output_type": "stream",
          "text": [
            "[0 1 2 3 4]\n",
            "[0 1 2 3 4]\n"
          ],
          "name": "stdout"
        }
      ]
    },
    {
      "cell_type": "code",
      "metadata": {
        "id": "Voa2XG_eaOUR",
        "colab_type": "code",
        "colab": {
          "base_uri": "https://localhost:8080/",
          "height": 67
        },
        "outputId": "d782ab84-9ddf-4ff6-90fa-5747a1d936a5"
      },
      "source": [
        "print(A+B)\n",
        "print(A-B)\n",
        "print(A*B)"
      ],
      "execution_count": 142,
      "outputs": [
        {
          "output_type": "stream",
          "text": [
            "[0 2 4 6 8]\n",
            "[0 0 0 0 0]\n",
            "[ 0  1  4  9 16]\n"
          ],
          "name": "stdout"
        }
      ]
    },
    {
      "cell_type": "code",
      "metadata": {
        "id": "hfch4_LSaWnE",
        "colab_type": "code",
        "colab": {
          "base_uri": "https://localhost:8080/",
          "height": 34
        },
        "outputId": "f4e55482-a135-44e2-f6e2-d3f14b99420c"
      },
      "source": [
        "print(A, A+1) # broadcasting - scalar value will be added to individual vector element"
      ],
      "execution_count": 143,
      "outputs": [
        {
          "output_type": "stream",
          "text": [
            "[0 1 2 3 4] [1 2 3 4 5]\n"
          ],
          "name": "stdout"
        }
      ]
    },
    {
      "cell_type": "code",
      "metadata": {
        "id": "Z_N8RSVmb4oR",
        "colab_type": "code",
        "colab": {
          "base_uri": "https://localhost:8080/",
          "height": 101
        },
        "outputId": "82055726-7c84-4273-9ad5-6eca5f630d23"
      },
      "source": [
        "A = np.random.random((2, 3))\n",
        "print(A)\n",
        "print('--------------------')\n",
        "print(A+1)"
      ],
      "execution_count": 145,
      "outputs": [
        {
          "output_type": "stream",
          "text": [
            "[[0.90871465 0.25966024 0.72855389]\n",
            " [0.81210197 0.58344822 0.23549782]]\n",
            "--------------------\n",
            "[[1.90871465 1.25966024 1.72855389]\n",
            " [1.81210197 1.58344822 1.23549782]]\n"
          ],
          "name": "stdout"
        }
      ]
    },
    {
      "cell_type": "code",
      "metadata": {
        "id": "OhJC6C_5cPD9",
        "colab_type": "code",
        "colab": {
          "base_uri": "https://localhost:8080/",
          "height": 101
        },
        "outputId": "7885cc81-fa77-4f42-a6a3-b1269ae649f4"
      },
      "source": [
        "A = np.random.random((2, 3))*10\n",
        "print(A)\n",
        "print('--------------------')\n",
        "print(np.floor(A))"
      ],
      "execution_count": 148,
      "outputs": [
        {
          "output_type": "stream",
          "text": [
            "[[2.22390407 6.05324597 3.47703097]\n",
            " [4.37184578 9.80840835 4.23319403]]\n",
            "--------------------\n",
            "[[2. 6. 3.]\n",
            " [4. 9. 4.]]\n"
          ],
          "name": "stdout"
        }
      ]
    },
    {
      "cell_type": "code",
      "metadata": {
        "id": "zL_-Ra6Ccqof",
        "colab_type": "code",
        "colab": {
          "base_uri": "https://localhost:8080/",
          "height": 34
        },
        "outputId": "aefbeb67-1f7a-4379-b132-fe8067cc02b8"
      },
      "source": [
        "u = [1, 2, 3]\n",
        "v = [-1, 0, 1]\n",
        "\n",
        "p1 = np.inner(u, v) # inner product\n",
        "print(p1)"
      ],
      "execution_count": 150,
      "outputs": [
        {
          "output_type": "stream",
          "text": [
            "2\n"
          ],
          "name": "stdout"
        }
      ]
    },
    {
      "cell_type": "code",
      "metadata": {
        "id": "njyG4JC5dko9",
        "colab_type": "code",
        "colab": {
          "base_uri": "https://localhost:8080/",
          "height": 67
        },
        "outputId": "79c67d04-ffad-4ce5-8ec1-04ac4bbc9f61"
      },
      "source": [
        "p2 = np.outer(u, v) # outer product\n",
        "print(p2)"
      ],
      "execution_count": 151,
      "outputs": [
        {
          "output_type": "stream",
          "text": [
            "[[-1  0  1]\n",
            " [-2  0  2]\n",
            " [-3  0  3]]\n"
          ],
          "name": "stdout"
        }
      ]
    },
    {
      "cell_type": "code",
      "metadata": {
        "id": "kUv-6wmyduTP",
        "colab_type": "code",
        "colab": {
          "base_uri": "https://localhost:8080/",
          "height": 84
        },
        "outputId": "00036a18-bf2d-49fa-9961-eadfb4d15946"
      },
      "source": [
        "A = np.ones((2, 3))\n",
        "print(A)\n",
        "B = np.ones((3, 2))\n",
        "\n",
        "print(np.dot(A, B))"
      ],
      "execution_count": 154,
      "outputs": [
        {
          "output_type": "stream",
          "text": [
            "[[1. 1. 1.]\n",
            " [1. 1. 1.]]\n",
            "[[3. 3.]\n",
            " [3. 3.]]\n"
          ],
          "name": "stdout"
        }
      ]
    },
    {
      "cell_type": "code",
      "metadata": {
        "id": "uXG_8ITNeVxU",
        "colab_type": "code",
        "colab": {
          "base_uri": "https://localhost:8080/",
          "height": 50
        },
        "outputId": "c46b6da9-d865-485d-b50f-a3a5b2b431fa"
      },
      "source": [
        "print(np.dot(B.T, A.T))"
      ],
      "execution_count": 157,
      "outputs": [
        {
          "output_type": "stream",
          "text": [
            "[[3. 3.]\n",
            " [3. 3.]]\n"
          ],
          "name": "stdout"
        }
      ]
    },
    {
      "cell_type": "code",
      "metadata": {
        "id": "_slSn90zf_Vf",
        "colab_type": "code",
        "colab": {
          "base_uri": "https://localhost:8080/",
          "height": 34
        },
        "outputId": "b461ebdc-76ef-4ddf-ce5f-5e8353151f7d"
      },
      "source": [
        "A = np.ones((2, 3))\n",
        "print(A.sum())"
      ],
      "execution_count": 159,
      "outputs": [
        {
          "output_type": "stream",
          "text": [
            "6.0\n"
          ],
          "name": "stdout"
        }
      ]
    },
    {
      "cell_type": "code",
      "metadata": {
        "id": "TFLrFgJHgVuD",
        "colab_type": "code",
        "colab": {
          "base_uri": "https://localhost:8080/",
          "height": 34
        },
        "outputId": "1fff2ca4-56ad-4826-aa4b-31796d305762"
      },
      "source": [
        "print(A.sum(axis=0))"
      ],
      "execution_count": 160,
      "outputs": [
        {
          "output_type": "stream",
          "text": [
            "[2. 2. 2.]\n"
          ],
          "name": "stdout"
        }
      ]
    },
    {
      "cell_type": "code",
      "metadata": {
        "id": "P2sy4JFggxh2",
        "colab_type": "code",
        "colab": {
          "base_uri": "https://localhost:8080/",
          "height": 34
        },
        "outputId": "e2644aa7-18f4-4a7e-c234-5531efc7886f"
      },
      "source": [
        "print(A.sum(axis=1))"
      ],
      "execution_count": 161,
      "outputs": [
        {
          "output_type": "stream",
          "text": [
            "[3. 3.]\n"
          ],
          "name": "stdout"
        }
      ]
    },
    {
      "cell_type": "code",
      "metadata": {
        "id": "1iyuiBuug0vB",
        "colab_type": "code",
        "colab": {
          "base_uri": "https://localhost:8080/",
          "height": 34
        },
        "outputId": "5e8b48d2-4b63-42fc-fd07-2f83f4bd5c0f"
      },
      "source": [
        "A.max()"
      ],
      "execution_count": 162,
      "outputs": [
        {
          "output_type": "execute_result",
          "data": {
            "text/plain": [
              "1.0"
            ]
          },
          "metadata": {
            "tags": []
          },
          "execution_count": 162
        }
      ]
    }
  ]
}